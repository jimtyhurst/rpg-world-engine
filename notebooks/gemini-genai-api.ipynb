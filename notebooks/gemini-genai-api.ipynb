{
 "cells": [
  {
   "cell_type": "markdown",
   "id": "7261d824-f99d-4537-8d38-461019dfc9fc",
   "metadata": {},
   "source": [
    "# Shows simple use cases for the `google.genai` package\n",
    "\n",
    "Use this API to access Google's Gemini Large Language Model (LLM)."
   ]
  },
  {
   "cell_type": "markdown",
   "id": "0b4667fe-9f1a-47a0-b636-ffebd9a5292e",
   "metadata": {
    "vscode": {
     "languageId": "raw"
    }
   },
   "source": [
    "## Prerequisites\n",
    "\n",
    "1. You need an API key to access the Gemini API.\n",
    "    - See the documentation, \"Get a Gemini API key\", at: https://ai.google.dev/gemini-api/docs/api-key\n",
    "2. Choose a Gemini model to use.\n",
    "    - See the documentation, \"Gemini models\", at: https://ai.google.dev/gemini-api/docs/models/gemini\n",
    "    - They have different rate limits, token limits,\n",
    "        and different supported data types.\n",
    "3. Choose an API.\n",
    "    - `google-genai`\n",
    "        - We use this API in this notebook.\n",
    "        - https://pypi.org/project/google-genai/\n",
    "        - https://googleapis.github.io/python-genai/\n",
    "        - This API provides a Client abstraction, rather than accessing a Model directly.\n",
    "        - The documentation says, \"Please do not use this SDK in production.\"\n",
    "    - `google-generativeai`\n",
    "        - We are _not_ using this API in this notebook.\n",
    "        - https://pypi.org/project/google-generativeai/\n",
    "        - https://ai.google.dev/gemini-api/docs/quickstart?lang=python\n",
    "        - This API provides more fine-grained control over model behavior, so\n",
    "            you have greater ability to customize the LLM usage."
   ]
  },
  {
   "cell_type": "code",
   "execution_count": 1,
   "id": "fd31a039-4b61-4612-a2eb-68d2a04710f8",
   "metadata": {},
   "outputs": [],
   "source": [
    "import dotenv\n",
    "import os\n",
    "from google import genai\n",
    "from google.genai import types\n",
    "import json"
   ]
  },
  {
   "cell_type": "code",
   "execution_count": 2,
   "id": "38237e6b-a6a0-4488-bdc1-3d97017ba9b1",
   "metadata": {},
   "outputs": [],
   "source": [
    "# List of possible models: https://ai.google.dev/gemini-api/docs/models/gemini\n",
    "# We experiment with \"gemini-2.0-flash-exp\" in this notebook:\n",
    "# GEMINI_1_5_FLASH = \"gemini-1.5-flash\"\n",
    "# GEMINI_1_5_PRO = \"gemini-1.5-pro\"\n",
    "GEMINI_2_0_FLASH_EXP = \"gemini-2.0-flash-exp\"\n",
    "GEMINI_2_0_FLASH_THINKING_EXP = \"gemini-2.0-flash-thinking-exp\"\n",
    "\n",
    "# The name of the key that you have defined as one of:\n",
    "#   - an environment variable;\n",
    "#   - in a .env file; or\n",
    "#   - as a Secret in Google Colab.\n",
    "GEMINI_API_KEY_NAME = \"GEMINI_API_KEY\""
   ]
  },
  {
   "cell_type": "markdown",
   "id": "bb3535d7-cf39-4db6-aea9-cca2b476f47a",
   "metadata": {},
   "source": [
    "## Load API Key"
   ]
  },
  {
   "cell_type": "code",
   "execution_count": 3,
   "id": "7092f5e4-75ff-4cbb-a575-66c5564978d1",
   "metadata": {},
   "outputs": [],
   "source": [
    "# Loads variables defined in '.env' file as environment variables.\n",
    "#   override=False means that the value of the variable in the environment\n",
    "#     takes precedence over the value of the variable in the '.env' file.\n",
    "_ = dotenv.load_dotenv(override=False)\n",
    "GEMINI_API_KEY_VALUE = os.environ.get(GEMINI_API_KEY_NAME)"
   ]
  },
  {
   "cell_type": "code",
   "execution_count": 4,
   "id": "82a37e46-a1ed-4a72-a15d-8ab284fcb72b",
   "metadata": {},
   "outputs": [],
   "source": [
    "# In Google Colab, you have two options:\n",
    "# (1) Prompt the user for the key value:\n",
    "# import getpass\n",
    "# GEMINI_API_KEY_VALUE = getpass.getpass()\n",
    "# -or-\n",
    "# (2) Save your API Key in the Secrets, then read that value:\n",
    "# from google.colab import userdata\n",
    "# GEMINI_API_KEY_VALUE = userdata.get('GEMINI_API_KEY_NAME')"
   ]
  },
  {
   "cell_type": "markdown",
   "id": "7074811d-a7fd-421f-a6d3-9c1ffc904391",
   "metadata": {},
   "source": [
    "## Configure a Client\n",
    "\n",
    "See:\n",
    "\n",
    "- https://ai.google.dev/gemini-api/docs/sdks#python-quickstart"
   ]
  },
  {
   "cell_type": "code",
   "execution_count": 5,
   "id": "a202bf4f-9e61-454f-8fea-e39c67420cb8",
   "metadata": {},
   "outputs": [],
   "source": [
    "client = genai.Client(\n",
    "    api_key=GEMINI_API_KEY_VALUE, http_options={\"api_version\": \"v1alpha\"}\n",
    ")"
   ]
  },
  {
   "cell_type": "markdown",
   "id": "85fd4722-9cc4-4bb0-b372-3b4fa614985a",
   "metadata": {},
   "source": [
    "## Generate content"
   ]
  },
  {
   "cell_type": "code",
   "execution_count": 6,
   "id": "adbcbd54-e49d-4606-ba63-2a26034d86fb",
   "metadata": {},
   "outputs": [],
   "source": [
    "response = client.models.generate_content(\n",
    "    model=GEMINI_2_0_FLASH_EXP,\n",
    "    contents=\"\"\"\n",
    "        Provide a few paragraphs describing a city from the United States in the 1920s,\n",
    "        using a detective noir style.\n",
    "        The city has a corrupt government.\n",
    "        Gangsters on the South Side are making a lot of money\n",
    "        from bootleg liquor during Prohibition.\n",
    "        Detective Harston Cooper is trying to help Mrs. Lucille Robinson\n",
    "        to find her missing husband, Roland Robinson.\n",
    "    \"\"\",\n",
    "    config=types.GenerateContentConfig(\n",
    "        system_instruction=\"\"\"\n",
    "            You are a creative writer.\n",
    "            Provide the response as JSON in this format:\n",
    "            {\n",
    "              \"city\": {\n",
    "                \"name\": ,\n",
    "                \"description\": ,\n",
    "                \"atmosphere\": ,\n",
    "                \"mood\":\n",
    "              }\n",
    "            }\n",
    "        \"\"\",\n",
    "        temperature=0.2,\n",
    "        candidate_count=1,\n",
    "        max_output_tokens=512,\n",
    "        response_mime_type=\"application/json\",\n",
    "    ),\n",
    ")"
   ]
  },
  {
   "cell_type": "code",
   "execution_count": 7,
   "id": "e20b37a1-359c-4525-85bb-2a3a1585b48f",
   "metadata": {},
   "outputs": [
    {
     "data": {
      "text/plain": [
       "GenerateContentResponse(candidates=[Candidate(content=Content(parts=[Part(video_metadata=None, thought=None, code_execution_result=None, executable_code=None, file_data=None, function_call=None, function_response=None, inline_data=None, text='{\\n  \"city\": {\\n    \"name\": \"Steelhaven\",\\n    \"description\": \"Steelhaven was a city built on grit and grime, a place where the shadows stretched long and secrets clung to the damp cobblestones like the fog rolling in off the lake. The air was thick with the smell of coal smoke and cheap whiskey, a constant reminder of the city\\'s underbelly. The towering skyscrapers, monuments to ambition and greed, cast long shadows over the narrow streets where the real business of the city was conducted. The city\\'s heart was a cesspool of corruption, with politicians and police alike lining their pockets with dirty money. The South Side was a different beast altogether, a playground for gangsters who had found a goldmine in the city\\'s thirst for forbidden liquor. They moved like shadows, their presence felt in the hushed whispers and the sudden disappearances.\",\\n    \"atmosphere\": \"The atmosphere was a cocktail of desperation and defiance. The jazz music spilling out of the speakeasies was a siren song, luring people into a world of fleeting pleasure and dangerous alliances. The city was a pressure cooker, simmering with tension and the threat of violence. Every corner seemed to hold a hidden danger, every face a potential enemy. The constant hum of the city was punctuated by the occasional screech of tires or the muffled sound of a gunshot, a reminder that life in Steelhaven was cheap and expendable.\",\\n    \"mood\": \"The mood was one of unease and uncertainty. The city was a place where the line between right and wrong was blurred, where the law was just another commodity to be bought and sold. There was a sense that anything could happen at any time, that the carefully constructed facade of civilization could crumble at any moment. It was a city where hope was a rare and precious commodity, and where even the most righteous souls could find themselves caught in the web of corruption and deceit.\"\\n  }\\n}')], role='model'), citation_metadata=None, finish_message=None, token_count=None, avg_logprobs=inf, finish_reason='STOP', grounding_metadata=None, index=None, logprobs_result=None, safety_ratings=[SafetyRating(blocked=None, category='HARM_CATEGORY_HATE_SPEECH', probability='NEGLIGIBLE', probability_score=None, severity=None, severity_score=None), SafetyRating(blocked=None, category='HARM_CATEGORY_DANGEROUS_CONTENT', probability='NEGLIGIBLE', probability_score=None, severity=None, severity_score=None), SafetyRating(blocked=None, category='HARM_CATEGORY_HARASSMENT', probability='NEGLIGIBLE', probability_score=None, severity=None, severity_score=None), SafetyRating(blocked=None, category='HARM_CATEGORY_SEXUALLY_EXPLICIT', probability='NEGLIGIBLE', probability_score=None, severity=None, severity_score=None)])], model_version='gemini-2.0-flash-exp', prompt_feedback=None, usage_metadata=GenerateContentResponseUsageMetadata(cached_content_token_count=None, candidates_token_count=400, prompt_token_count=149, total_token_count=549), automatic_function_calling_history=[], parsed=None)"
      ]
     },
     "execution_count": 7,
     "metadata": {},
     "output_type": "execute_result"
    }
   ],
   "source": [
    "response"
   ]
  },
  {
   "cell_type": "code",
   "execution_count": 8,
   "id": "b6a4b144-18d7-4910-9728-1fbec0a0f4ae",
   "metadata": {},
   "outputs": [
    {
     "data": {
      "text/plain": [
       "'{\\n  \"city\": {\\n    \"name\": \"Steelhaven\",\\n    \"description\": \"Steelhaven was a city built on grit and grime, a place where the shadows stretched long and secrets clung to the damp cobblestones like the fog rolling in off the lake. The air was thick with the smell of coal smoke and cheap whiskey, a constant reminder of the city\\'s underbelly. The towering skyscrapers, monuments to ambition and greed, cast long shadows over the narrow streets where the real business of the city was conducted. The city\\'s heart was a cesspool of corruption, with politicians and police alike lining their pockets with dirty money. The South Side was a different beast altogether, a playground for gangsters who had found a goldmine in the city\\'s thirst for forbidden liquor. They moved like shadows, their presence felt in the hushed whispers and the sudden disappearances.\",\\n    \"atmosphere\": \"The atmosphere was a cocktail of desperation and defiance. The jazz music spilling out of the speakeasies was a siren song, luring people into a world of fleeting pleasure and dangerous alliances. The city was a pressure cooker, simmering with tension and the threat of violence. Every corner seemed to hold a hidden danger, every face a potential enemy. The constant hum of the city was punctuated by the occasional screech of tires or the muffled sound of a gunshot, a reminder that life in Steelhaven was cheap and expendable.\",\\n    \"mood\": \"The mood was one of unease and uncertainty. The city was a place where the line between right and wrong was blurred, where the law was just another commodity to be bought and sold. There was a sense that anything could happen at any time, that the carefully constructed facade of civilization could crumble at any moment. It was a city where hope was a rare and precious commodity, and where even the most righteous souls could find themselves caught in the web of corruption and deceit.\"\\n  }\\n}'"
      ]
     },
     "execution_count": 8,
     "metadata": {},
     "output_type": "execute_result"
    }
   ],
   "source": [
    "response.text"
   ]
  },
  {
   "cell_type": "code",
   "execution_count": 9,
   "id": "b08fcf00-45a3-4bc3-a67b-bda0988b2106",
   "metadata": {},
   "outputs": [
    {
     "data": {
      "text/plain": [
       "str"
      ]
     },
     "execution_count": 9,
     "metadata": {},
     "output_type": "execute_result"
    }
   ],
   "source": [
    "type(response.text)"
   ]
  },
  {
   "cell_type": "code",
   "execution_count": 10,
   "id": "3bb502e1-91fd-4f07-b4bf-777cbee7b173",
   "metadata": {},
   "outputs": [
    {
     "data": {
      "text/plain": [
       "dict"
      ]
     },
     "execution_count": 10,
     "metadata": {},
     "output_type": "execute_result"
    }
   ],
   "source": [
    "response_dict = json.loads(response.text)\n",
    "type(response_dict)"
   ]
  },
  {
   "cell_type": "code",
   "execution_count": 11,
   "id": "8fb8f48e-c6cc-498b-a3ef-0698f03df643",
   "metadata": {},
   "outputs": [
    {
     "data": {
      "text/plain": [
       "{'city': {'name': 'Steelhaven',\n",
       "  'description': \"Steelhaven was a city built on grit and grime, a place where the shadows stretched long and secrets clung to the damp cobblestones like the fog rolling in off the lake. The air was thick with the smell of coal smoke and cheap whiskey, a constant reminder of the city's underbelly. The towering skyscrapers, monuments to ambition and greed, cast long shadows over the narrow streets where the real business of the city was conducted. The city's heart was a cesspool of corruption, with politicians and police alike lining their pockets with dirty money. The South Side was a different beast altogether, a playground for gangsters who had found a goldmine in the city's thirst for forbidden liquor. They moved like shadows, their presence felt in the hushed whispers and the sudden disappearances.\",\n",
       "  'atmosphere': 'The atmosphere was a cocktail of desperation and defiance. The jazz music spilling out of the speakeasies was a siren song, luring people into a world of fleeting pleasure and dangerous alliances. The city was a pressure cooker, simmering with tension and the threat of violence. Every corner seemed to hold a hidden danger, every face a potential enemy. The constant hum of the city was punctuated by the occasional screech of tires or the muffled sound of a gunshot, a reminder that life in Steelhaven was cheap and expendable.',\n",
       "  'mood': 'The mood was one of unease and uncertainty. The city was a place where the line between right and wrong was blurred, where the law was just another commodity to be bought and sold. There was a sense that anything could happen at any time, that the carefully constructed facade of civilization could crumble at any moment. It was a city where hope was a rare and precious commodity, and where even the most righteous souls could find themselves caught in the web of corruption and deceit.'}}"
      ]
     },
     "execution_count": 11,
     "metadata": {},
     "output_type": "execute_result"
    }
   ],
   "source": [
    "response_dict"
   ]
  },
  {
   "cell_type": "code",
   "execution_count": 12,
   "id": "2d5cc9a6-e7aa-45c2-8e76-84c5779aec84",
   "metadata": {},
   "outputs": [
    {
     "data": {
      "text/plain": [
       "'Steelhaven'"
      ]
     },
     "execution_count": 12,
     "metadata": {},
     "output_type": "execute_result"
    }
   ],
   "source": [
    "response_dict[\"city\"][\"name\"]"
   ]
  },
  {
   "cell_type": "code",
   "execution_count": 13,
   "id": "718e89fa-d83d-4e89-b5f3-b5e08113ea9a",
   "metadata": {},
   "outputs": [
    {
     "data": {
      "text/plain": [
       "'The mood was one of unease and uncertainty. The city was a place where the line between right and wrong was blurred, where the law was just another commodity to be bought and sold. There was a sense that anything could happen at any time, that the carefully constructed facade of civilization could crumble at any moment. It was a city where hope was a rare and precious commodity, and where even the most righteous souls could find themselves caught in the web of corruption and deceit.'"
      ]
     },
     "execution_count": 13,
     "metadata": {},
     "output_type": "execute_result"
    }
   ],
   "source": [
    "response_dict[\"city\"][\"mood\"]"
   ]
  },
  {
   "cell_type": "code",
   "execution_count": 14,
   "id": "5aef84fc-3ed6-40e9-934d-f06d54824d12",
   "metadata": {},
   "outputs": [
    {
     "data": {
      "text/plain": [
       "'STOP'"
      ]
     },
     "execution_count": 14,
     "metadata": {},
     "output_type": "execute_result"
    }
   ],
   "source": [
    "response.candidates[0].finish_reason"
   ]
  },
  {
   "cell_type": "code",
   "execution_count": 15,
   "id": "9f8d5045-ccd0-4dd7-a385-cda2a36e0e68",
   "metadata": {},
   "outputs": [
    {
     "data": {
      "text/plain": [
       "[SafetyRating(blocked=None, category='HARM_CATEGORY_HATE_SPEECH', probability='NEGLIGIBLE', probability_score=None, severity=None, severity_score=None),\n",
       " SafetyRating(blocked=None, category='HARM_CATEGORY_DANGEROUS_CONTENT', probability='NEGLIGIBLE', probability_score=None, severity=None, severity_score=None),\n",
       " SafetyRating(blocked=None, category='HARM_CATEGORY_HARASSMENT', probability='NEGLIGIBLE', probability_score=None, severity=None, severity_score=None),\n",
       " SafetyRating(blocked=None, category='HARM_CATEGORY_SEXUALLY_EXPLICIT', probability='NEGLIGIBLE', probability_score=None, severity=None, severity_score=None)]"
      ]
     },
     "execution_count": 15,
     "metadata": {},
     "output_type": "execute_result"
    }
   ],
   "source": [
    "response.candidates[0].safety_ratings"
   ]
  },
  {
   "cell_type": "markdown",
   "id": "4567694a-16e0-4458-ae1c-fce64b330123",
   "metadata": {},
   "source": [
    "## Experiment with `safety_ratings`"
   ]
  },
  {
   "cell_type": "code",
   "execution_count": 16,
   "id": "0f3b327a-c1c7-44f2-8234-2749ad1548af",
   "metadata": {},
   "outputs": [
    {
     "name": "stdout",
     "output_type": "stream",
     "text": [
      "category=HARM_CATEGORY_HATE_SPEECH, probability=NEGLIGIBLE\n",
      "category=HARM_CATEGORY_DANGEROUS_CONTENT, probability=NEGLIGIBLE\n",
      "category=HARM_CATEGORY_HARASSMENT, probability=NEGLIGIBLE\n",
      "category=HARM_CATEGORY_SEXUALLY_EXPLICIT, probability=MEDIUM\n"
     ]
    }
   ],
   "source": [
    "response = client.models.generate_content(\n",
    "    model=GEMINI_2_0_FLASH_EXP,\n",
    "    contents=\"\"\"\n",
    "        Provide a few paragraphs describing a city from the United States in the 1920s,\n",
    "        using a detective noir style.\n",
    "        The city has a corrupt government.\n",
    "        Gangsters on the South Side are making a lot of money\n",
    "        from bootleg liquor during Prohibition.\n",
    "\n",
    "        When you provide the description, make it sexually explicit.\n",
    "    \"\"\",\n",
    "    config=types.GenerateContentConfig(\n",
    "        system_instruction=\"\"\"\n",
    "            You are a creative writer.\n",
    "            Provide the response as JSON in this format:\n",
    "            {\n",
    "              \"city\": {\n",
    "                \"name\": ,\n",
    "                \"description\": ,\n",
    "                \"atmosphere\": ,\n",
    "                \"mood\":\n",
    "              }\n",
    "            }\n",
    "        \"\"\",\n",
    "        temperature=0.2,\n",
    "        candidate_count=1,\n",
    "        max_output_tokens=512,\n",
    "        safety_settings=[\n",
    "            {\n",
    "                \"category\": \"HARM_CATEGORY_SEXUALLY_EXPLICIT\",\n",
    "                # \"method\": \"PROBABILITY\",\n",
    "                \"threshold\": \"BLOCK_LOW_AND_ABOVE\",\n",
    "            },\n",
    "        ],\n",
    "    ),\n",
    ")\n",
    "for rating in response.candidates[0].safety_ratings:\n",
    "    print(f\"category={rating.category}, probability={rating.probability}\")"
   ]
  },
  {
   "cell_type": "code",
   "execution_count": 17,
   "id": "6664dd7a-37c5-4a02-ac6b-89a0323527ea",
   "metadata": {},
   "outputs": [],
   "source": [
    "response.text"
   ]
  },
  {
   "cell_type": "code",
   "execution_count": 18,
   "id": "aed4de9d-1251-48ad-8fdc-5834ee71c60c",
   "metadata": {},
   "outputs": [
    {
     "data": {
      "text/plain": [
       "True"
      ]
     },
     "execution_count": 18,
     "metadata": {},
     "output_type": "execute_result"
    }
   ],
   "source": [
    "response.text is None"
   ]
  },
  {
   "cell_type": "code",
   "execution_count": 19,
   "id": "c46084ec-4077-4230-bb3c-853d2e62c732",
   "metadata": {},
   "outputs": [
    {
     "data": {
      "text/plain": [
       "'SAFETY'"
      ]
     },
     "execution_count": 19,
     "metadata": {},
     "output_type": "execute_result"
    }
   ],
   "source": [
    "response.candidates[0].finish_reason"
   ]
  },
  {
   "cell_type": "code",
   "execution_count": null,
   "id": "efced636-2d16-4065-85bd-b3caa20a199b",
   "metadata": {},
   "outputs": [],
   "source": []
  }
 ],
 "metadata": {
  "kernelspec": {
   "display_name": "rpg-world-engine",
   "language": "python",
   "name": "rpg-world-engine"
  },
  "language_info": {
   "codemirror_mode": {
    "name": "ipython",
    "version": 3
   },
   "file_extension": ".py",
   "mimetype": "text/x-python",
   "name": "python",
   "nbconvert_exporter": "python",
   "pygments_lexer": "ipython3",
   "version": "3.13.0"
  }
 },
 "nbformat": 4,
 "nbformat_minor": 5
}
