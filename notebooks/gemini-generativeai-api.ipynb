{
 "cells": [
  {
   "cell_type": "markdown",
   "id": "1a3b05f4-5102-4755-a722-c07fbd9dfe3a",
   "metadata": {},
   "source": [
    "# Shows simple use cases for the `google.generativeai` package\n",
    "\n",
    "Use this API to access Google's Gemini Large Language Model (LLM)."
   ]
  },
  {
   "cell_type": "markdown",
   "id": "60c44de5-be7f-4453-a7c0-c8361ccb099b",
   "metadata": {},
   "source": [
    "## Prerequisites\n",
    "\n",
    "1. You need an API key to access the Gemini API.\n",
    "    - See the documentation, \"Get a Gemini API key\", at: https://ai.google.dev/gemini-api/docs/api-key\n",
    "2. Choose a Gemini model to use.\n",
    "    - See the documentation, \"Gemini models\", at: https://ai.google.dev/gemini-api/docs/models/gemini\n",
    "    - They have different rate limits, token limits,\n",
    "        and different supported data types.\n",
    "3. Choose an API.\n",
    "    - `google-generativeai`\n",
    "        - We use this API in this notebook.\n",
    "        - https://pypi.org/project/google-generativeai/\n",
    "        - https://ai.google.dev/gemini-api/docs/quickstart?lang=python\n",
    "        - This API provides more fine-grained control over model behavior, so\n",
    "            you have greater ability to customize the LLM usage.\n",
    "    - `google-genai`\n",
    "        - We are _not_ using this API in this notebook.\n",
    "        - https://pypi.org/project/google-genai/\n",
    "        - https://googleapis.github.io/python-genai/\n",
    "        - This API is more concise and simplified.\n",
    "        - The documentation says, \"Please do not use this SDK in production.\""
   ]
  },
  {
   "cell_type": "code",
   "execution_count": 21,
   "id": "6d00a462-185a-47f5-84c9-08168dfc01f4",
   "metadata": {},
   "outputs": [],
   "source": [
    "import dotenv\n",
    "import os\n",
    "import google.generativeai as generativeai\n",
    "import json"
   ]
  },
  {
   "cell_type": "code",
   "execution_count": 2,
   "id": "26f59ef6-a4b5-4c27-9532-04729a6985c5",
   "metadata": {},
   "outputs": [],
   "source": [
    "# List of possible models: https://ai.google.dev/gemini-api/docs/models/gemini\n",
    "# We experiment with a few different models in this notebook:\n",
    "GEMINI_1_5_FLASH = \"gemini-1.5-flash\"\n",
    "GEMINI_1_5_PRO = \"gemini-1.5-pro\"\n",
    "GEMINI_2_0_FLASH_EXP = \"gemini-2.0-flash-exp\"\n",
    "\n",
    "# The name of the key that you have defined as one of:\n",
    "#   - an environment variable;\n",
    "#   - in a .env file; or\n",
    "#   - as a Secret in Google Colab.\n",
    "GEMINI_API_KEY_NAME = \"GEMINI_API_KEY\""
   ]
  },
  {
   "cell_type": "markdown",
   "id": "d43823d5-9acb-408f-a796-b5f6025eb865",
   "metadata": {},
   "source": [
    "## Load API Key"
   ]
  },
  {
   "cell_type": "code",
   "execution_count": 3,
   "id": "d0a3ed4e-77cf-48d2-9b76-3dfe2891d185",
   "metadata": {},
   "outputs": [],
   "source": [
    "# Loads variables defined in '.env' file as environment variables.\n",
    "#   override=False means that the value of the variable in the environment\n",
    "#     takes precedence over the value of the variable in the '.env' file.\n",
    "_ = dotenv.load_dotenv(override=False)\n",
    "GEMINI_API_KEY_VALUE = os.environ.get(GEMINI_API_KEY_NAME)"
   ]
  },
  {
   "cell_type": "code",
   "execution_count": 4,
   "id": "eb626e34-8cd2-4081-93af-84290f41cf09",
   "metadata": {},
   "outputs": [],
   "source": [
    "# In Google Colab, you have two options:\n",
    "# (1) Prompt the user for the key value:\n",
    "# import getpass\n",
    "# GEMINI_API_KEY_VALUE = getpass.getpass()\n",
    "# -or-\n",
    "# (2) Save your API Key in the Secrets, then read that value:\n",
    "# from google.colab import userdata\n",
    "# GEMINI_API_KEY_VALUE = userdata.get('GEMINI_API_KEY_NAME')"
   ]
  },
  {
   "cell_type": "markdown",
   "id": "fb66f700-bedb-4b58-a05b-a19050bef7d8",
   "metadata": {},
   "source": [
    "## Get a model that returns JSON\n",
    "\n",
    "See:\n",
    "\n",
    "- https://ai.google.dev/gemini-api/docs/quickstart?lang=python#make-first-request\n",
    "- https://github.com/google-gemini/cookbook/blob/main/quickstarts/JSON_mode.ipynb\n",
    "- https://cloud.google.com/vertex-ai/generative-ai/docs/model-reference/inference#python\n",
    "- https://cloud.google.com/vertex-ai/generative-ai/docs/reference/python/latest/vertexai.generative_models.GenerationConfig"
   ]
  },
  {
   "cell_type": "code",
   "execution_count": 5,
   "id": "f0f8ccab-60c7-4135-8e1c-0582980cca0b",
   "metadata": {},
   "outputs": [],
   "source": [
    "generativeai.configure(api_key=GEMINI_API_KEY_VALUE)\n",
    "generation_configuration = generativeai.GenerationConfig(\n",
    "    temperature=1.0,\n",
    "    candidate_count=1,\n",
    "    max_output_tokens=1024,\n",
    "    response_mime_type=\"application/json\",\n",
    ")\n",
    "model = generativeai.GenerativeModel(\n",
    "    model_name=GEMINI_2_0_FLASH_EXP, generation_config=generation_configuration\n",
    ")"
   ]
  },
  {
   "cell_type": "markdown",
   "id": "4aab990d-4aec-4fd3-9659-68326d63988e",
   "metadata": {},
   "source": [
    "## Submit a prompt"
   ]
  },
  {
   "cell_type": "code",
   "execution_count": 6,
   "id": "7b07ce12-b24c-4e84-be21-5bdaa7976a0d",
   "metadata": {},
   "outputs": [],
   "source": [
    "prompt = \"\"\"\n",
    "You are a creative writer.\n",
    "I want you to provide a few paragraphs describing a city from the United States in the 1920s,\n",
    "using a detective noir style.\n",
    "The city has a corrupt government.\n",
    "Gangsters on the South Side are making a lot of money\n",
    "from bootleg liquor during Prohibition.\n",
    "Detective Harston Cooper is trying to help Mrs. Lucille Robinson\n",
    "to find her missing husband, Roland Robinson.\n",
    "Provide the response as JSON in this format:\n",
    "{\n",
    "  \"city\": {\n",
    "    \"name\": ,\n",
    "    \"description\": ,\n",
    "    \"atmosphere\": ,\n",
    "    \"mood\":\n",
    "  }\n",
    "}\n",
    "\"\"\""
   ]
  },
  {
   "cell_type": "code",
   "execution_count": 7,
   "id": "429b5a3b-846b-4974-9814-cc2f12b39db4",
   "metadata": {},
   "outputs": [
    {
     "data": {
      "text/plain": [
       "response:\n",
       "GenerateContentResponse(\n",
       "    done=True,\n",
       "    iterator=None,\n",
       "    result=protos.GenerateContentResponse({\n",
       "      \"candidates\": [\n",
       "        {\n",
       "          \"content\": {\n",
       "            \"parts\": [\n",
       "              {\n",
       "                \"text\": \"{\\n  \\\"city\\\": {\\n    \\\"name\\\": \\\"New Chicago\\\",\\n    \\\"description\\\": \\\"The city was a symphony of shadows and secrets, a concrete beast that swallowed dreams whole. Skyscrapers clawed at the sky, their art deco facades hiding the rot beneath.  Rain slicked the cobblestone streets, reflecting the neon glow of speakeasies and the flickering gas lamps of forgotten alleys. The air hung heavy with the scent of coal smoke, cheap gin, and desperation. Graft was the grease that kept the gears turning, from the mayor's office down to the beat cops, everyone had their hand out.  The only thing flowing smoother than the city's river was the booze, and that was thanks to the South Side boys.\\\",\\n    \\\"atmosphere\\\": \\\"A constant undercurrent of menace vibrated through the city.  Every corner held the possibility of a shakedown, a back-alley brawl, or a whispered deal.  Jazz music spilled from open doorways, a raucous counterpoint to the city's simmering violence.  The constant hum of traffic, the clatter of elevated trains, and the distant wail of a police siren created a discordant soundtrack to the city's hidden dramas.\\\",\\n    \\\"mood\\\": \\\"Cynical and weary. The city felt like a pressure cooker about to explode. Hope was a rare commodity, and trust was a fool's game. Every face you saw seemed to carry a secret, a burden, or a hidden agenda.  It was a place where the line between right and wrong was blurred, and where even the best men could get lost in the shadows.  Harston Cooper knew he was walking into a hornet's nest, but a dame in distress is a language he understood better than most.\\\"\\n  }\\n}\"\n",
       "              }\n",
       "            ],\n",
       "            \"role\": \"model\"\n",
       "          },\n",
       "          \"finish_reason\": \"STOP\",\n",
       "          \"safety_ratings\": [\n",
       "            {\n",
       "              \"category\": \"HARM_CATEGORY_HATE_SPEECH\",\n",
       "              \"probability\": \"NEGLIGIBLE\"\n",
       "            },\n",
       "            {\n",
       "              \"category\": \"HARM_CATEGORY_DANGEROUS_CONTENT\",\n",
       "              \"probability\": \"NEGLIGIBLE\"\n",
       "            },\n",
       "            {\n",
       "              \"category\": \"HARM_CATEGORY_HARASSMENT\",\n",
       "              \"probability\": \"NEGLIGIBLE\"\n",
       "            },\n",
       "            {\n",
       "              \"category\": \"HARM_CATEGORY_SEXUALLY_EXPLICIT\",\n",
       "              \"probability\": \"NEGLIGIBLE\"\n",
       "            }\n",
       "          ],\n",
       "          \"avg_logprobs\": -0.5442222327877569\n",
       "        }\n",
       "      ],\n",
       "      \"usage_metadata\": {\n",
       "        \"prompt_token_count\": 138,\n",
       "        \"candidates_token_count\": 371,\n",
       "        \"total_token_count\": 509\n",
       "      }\n",
       "    }),\n",
       ")"
      ]
     },
     "execution_count": 7,
     "metadata": {},
     "output_type": "execute_result"
    }
   ],
   "source": [
    "raw_response = model.generate_content(prompt)\n",
    "raw_response"
   ]
  },
  {
   "cell_type": "code",
   "execution_count": 8,
   "id": "9011a19a-53d8-4c05-ab9e-424b7379dc03",
   "metadata": {},
   "outputs": [
    {
     "data": {
      "text/plain": [
       "{'city': {'name': 'New Chicago',\n",
       "  'description': \"The city was a symphony of shadows and secrets, a concrete beast that swallowed dreams whole. Skyscrapers clawed at the sky, their art deco facades hiding the rot beneath.  Rain slicked the cobblestone streets, reflecting the neon glow of speakeasies and the flickering gas lamps of forgotten alleys. The air hung heavy with the scent of coal smoke, cheap gin, and desperation. Graft was the grease that kept the gears turning, from the mayor's office down to the beat cops, everyone had their hand out.  The only thing flowing smoother than the city's river was the booze, and that was thanks to the South Side boys.\",\n",
       "  'atmosphere': \"A constant undercurrent of menace vibrated through the city.  Every corner held the possibility of a shakedown, a back-alley brawl, or a whispered deal.  Jazz music spilled from open doorways, a raucous counterpoint to the city's simmering violence.  The constant hum of traffic, the clatter of elevated trains, and the distant wail of a police siren created a discordant soundtrack to the city's hidden dramas.\",\n",
       "  'mood': \"Cynical and weary. The city felt like a pressure cooker about to explode. Hope was a rare commodity, and trust was a fool's game. Every face you saw seemed to carry a secret, a burden, or a hidden agenda.  It was a place where the line between right and wrong was blurred, and where even the best men could get lost in the shadows.  Harston Cooper knew he was walking into a hornet's nest, but a dame in distress is a language he understood better than most.\"}}"
      ]
     },
     "execution_count": 8,
     "metadata": {},
     "output_type": "execute_result"
    }
   ],
   "source": [
    "response = json.loads(raw_response.text)\n",
    "response"
   ]
  },
  {
   "cell_type": "markdown",
   "id": "5cfc8551-17c6-4a56-b112-85a9cc936c9b",
   "metadata": {},
   "source": [
    "#### Analysis\n",
    "\n",
    "The response above is good, formatted as a `dict` with the structure that was requested in the prompt."
   ]
  },
  {
   "cell_type": "code",
   "execution_count": 9,
   "id": "8451b578-ffbc-40ce-9525-0e918dfbb8e5",
   "metadata": {},
   "outputs": [
    {
     "data": {
      "text/plain": [
       "dict"
      ]
     },
     "execution_count": 9,
     "metadata": {},
     "output_type": "execute_result"
    }
   ],
   "source": [
    "type(response)"
   ]
  },
  {
   "cell_type": "code",
   "execution_count": 10,
   "id": "38e2bc9b-9dad-4da8-9be6-8750c653e55d",
   "metadata": {},
   "outputs": [
    {
     "data": {
      "text/plain": [
       "'New Chicago'"
      ]
     },
     "execution_count": 10,
     "metadata": {},
     "output_type": "execute_result"
    }
   ],
   "source": [
    "response[\"city\"][\"name\"]"
   ]
  },
  {
   "cell_type": "code",
   "execution_count": 11,
   "id": "d0ad4d26-8e03-407b-ab43-edffa18eab10",
   "metadata": {},
   "outputs": [
    {
     "data": {
      "text/plain": [
       "\"The city was a symphony of shadows and secrets, a concrete beast that swallowed dreams whole. Skyscrapers clawed at the sky, their art deco facades hiding the rot beneath.  Rain slicked the cobblestone streets, reflecting the neon glow of speakeasies and the flickering gas lamps of forgotten alleys. The air hung heavy with the scent of coal smoke, cheap gin, and desperation. Graft was the grease that kept the gears turning, from the mayor's office down to the beat cops, everyone had their hand out.  The only thing flowing smoother than the city's river was the booze, and that was thanks to the South Side boys.\""
      ]
     },
     "execution_count": 11,
     "metadata": {},
     "output_type": "execute_result"
    }
   ],
   "source": [
    "response[\"city\"][\"description\"]"
   ]
  },
  {
   "cell_type": "markdown",
   "id": "24f4a4c8-82f5-4de5-818d-114d6bfd7091",
   "metadata": {},
   "source": [
    "## response_schema\n",
    "\n",
    "Let's try another way to get the structure that we want in the response: The `GenerationConfig` constructor has a `response_schema` argument. According to: https://cloud.google.com/vertex-ai/generative-ai/docs/multimodal/control-generated-output\n",
    "as of this writing on 2024-12-29, `response_schema` only works with the following models:\n",
    "\n",
    "- \"gemini-1.5-flash\"\n",
    "- \"gemini-1.5-pro\""
   ]
  },
  {
   "cell_type": "markdown",
   "id": "c5127b98-e532-4afb-8bac-73b3dd4db5a2",
   "metadata": {},
   "source": [
    "### Option 1\n",
    "\n",
    "- Remove the instructions about JSON from the prompt,\n",
    "- but provide a `response_schema` in the `generation_config` argument\n",
    "to the `generate_content` method."
   ]
  },
  {
   "cell_type": "code",
   "execution_count": 12,
   "id": "e1663b06-a915-4732-ad3f-9f2f061a68ad",
   "metadata": {},
   "outputs": [],
   "source": [
    "prompt = \"\"\"\n",
    "You are a creative writer.\n",
    "I want you to provide a few paragraphs describing a city from the United States in the 1920s,\n",
    "using a detective noir style.\n",
    "The city has a corrupt government.\n",
    "Gangsters on the South Side are making a lot of money\n",
    "from bootleg liquor during Prohibition.\n",
    "Mrs. Lucille Robinson has hired Detective Harston Cooper \n",
    "to find her missing husband, Roland Robinson.\n",
    "\"\"\""
   ]
  },
  {
   "cell_type": "code",
   "execution_count": 13,
   "id": "5d68649d-4aee-45ff-b8b2-5b88fa6c4a6b",
   "metadata": {},
   "outputs": [
    {
     "data": {
      "text/plain": [
       "response:\n",
       "GenerateContentResponse(\n",
       "    done=True,\n",
       "    iterator=None,\n",
       "    result=protos.GenerateContentResponse({\n",
       "      \"candidates\": [\n",
       "        {\n",
       "          \"content\": {\n",
       "            \"parts\": [\n",
       "              {\n",
       "                \"text\": \"{\\\"city\\\": {\\\"atmosphere\\\": \\\"A thick fog hung over the city, clinging to the cold, damp streets like a shroud.  The air was heavy with the scent of coal smoke and desperation.\\\", \\\"description\\\": \\\"Chicago in the 1920s. A city of stark contrasts, where opulence and poverty danced a dangerous tango. Skyscrapers clawed at the heavens, their steel and glass a testament to the city's ambition, while down below, the streets pulsed with a different kind of energy. The rumble of streetcars, the blare of jazz music from dimly lit speakeasies, and the ever-present undercurrent of danger.\\\", \\\"mood\\\": \\\"The city's mood was as unpredictable as the weather. One moment, it could be vibrant and alive, the next, it could turn dark and sinister, like a predator baring its teeth.\\\", \\\"name\\\": \\\"Chicago\\\"}}\"\n",
       "              }\n",
       "            ],\n",
       "            \"role\": \"model\"\n",
       "          },\n",
       "          \"finish_reason\": \"STOP\",\n",
       "          \"avg_logprobs\": -0.10917740899163324\n",
       "        }\n",
       "      ],\n",
       "      \"usage_metadata\": {\n",
       "        \"prompt_token_count\": 91,\n",
       "        \"candidates_token_count\": 185,\n",
       "        \"total_token_count\": 276\n",
       "      }\n",
       "    }),\n",
       ")"
      ]
     },
     "execution_count": 13,
     "metadata": {},
     "output_type": "execute_result"
    }
   ],
   "source": [
    "generation_configuration_with_schema = generativeai.GenerationConfig(\n",
    "    temperature=0.0,\n",
    "    candidate_count=1,\n",
    "    max_output_tokens=1024,\n",
    "    response_mime_type=\"application/json\",\n",
    "    response_schema={\n",
    "        \"type\": \"OBJECT\",\n",
    "        \"properties\": {\n",
    "            \"city\": {\n",
    "                \"type\": \"OBJECT\",\n",
    "                \"properties\": {\n",
    "                    \"name\": {\"type\": \"STRING\"},\n",
    "                    \"description\": {\"type\": \"STRING\"},\n",
    "                    \"atmosphere\": {\"type\": \"STRING\"},\n",
    "                    \"mood\": {\"type\": \"STRING\"},\n",
    "                },\n",
    "            }\n",
    "        },\n",
    "    },\n",
    ")\n",
    "raw_response = generativeai.GenerativeModel(\n",
    "    model_name=GEMINI_1_5_PRO,\n",
    "    generation_config=generation_configuration_with_schema,\n",
    ").generate_content(prompt)\n",
    "raw_response"
   ]
  },
  {
   "cell_type": "code",
   "execution_count": 14,
   "id": "3a14c509-f606-4732-a2d0-0a1e8b40cbd5",
   "metadata": {},
   "outputs": [
    {
     "data": {
      "text/plain": [
       "{'city': {'atmosphere': 'A thick fog hung over the city, clinging to the cold, damp streets like a shroud.  The air was heavy with the scent of coal smoke and desperation.',\n",
       "  'description': \"Chicago in the 1920s. A city of stark contrasts, where opulence and poverty danced a dangerous tango. Skyscrapers clawed at the heavens, their steel and glass a testament to the city's ambition, while down below, the streets pulsed with a different kind of energy. The rumble of streetcars, the blare of jazz music from dimly lit speakeasies, and the ever-present undercurrent of danger.\",\n",
       "  'mood': \"The city's mood was as unpredictable as the weather. One moment, it could be vibrant and alive, the next, it could turn dark and sinister, like a predator baring its teeth.\",\n",
       "  'name': 'Chicago'}}"
      ]
     },
     "execution_count": 14,
     "metadata": {},
     "output_type": "execute_result"
    }
   ],
   "source": [
    "response = json.loads(raw_response.text)\n",
    "response"
   ]
  },
  {
   "cell_type": "markdown",
   "id": "db56e1ab-1eb5-4d8e-bd8e-1236b5114268",
   "metadata": {},
   "source": [
    "#### Analysis\n",
    "\n",
    "The response above is good with well-formed JSON."
   ]
  },
  {
   "cell_type": "markdown",
   "id": "0a4f5610-6122-48db-84ba-3b065230a73b",
   "metadata": {},
   "source": [
    "### Option 2a\n",
    "\n",
    "Keep the JSON information in the prompt, as well as specifying\n",
    "the `response_schema`."
   ]
  },
  {
   "cell_type": "code",
   "execution_count": 15,
   "id": "1018d0df-6365-477d-92d2-6fecbdeb20bf",
   "metadata": {},
   "outputs": [
    {
     "data": {
      "text/plain": [
       "response:\n",
       "GenerateContentResponse(\n",
       "    done=True,\n",
       "    iterator=None,\n",
       "    result=protos.GenerateContentResponse({\n",
       "      \"candidates\": [\n",
       "        {\n",
       "          \"content\": {\n",
       "            \"parts\": [\n",
       "              {\n",
       "                \"text\": \"{\\\"city\\\": {\\\"name\\\": \\\"New Birminghamtonville, IL, 1924. Population: 234,432 (mostly liars). Corruption: High. Hope: Fading fast.  Known for:  Bootlegging, Bribery, and missing persons. Current weather:  Cloudy with a chance of betrayal. Humidity:  Saturated with despair. Wind:  Shifting, like the loyalties of a crooked cop.  Visibility:  Obscured by a thick fog of indifference.  Caution:  Beware of dames with secrets, politicians with promises, and anyone who offers you a drink.  It's probably poisoned. Or worse, it's near beer.  This city is a concrete jungle where the predators wear pinstripe suits and the prey carry wallets full of crumpled bills and empty dreams.  It's a place where the only thing you can trust is the gnawing feeling in your gut that tells you everything is about to go wrong.  And it usually does.  Stay tuned for more updates as we follow Detective Harston Cooper's investigation into the disappearance of Roland Robinson.  The trail is cold, the leads are scarce, and the danger is lurking around every dimly lit corner.  This is New Birminghamtonville, where the truth is buried deeper than a Chicago mobster's alibi.  And finding it is about as likely as finding a sober politician on election night.  Good luck, Detective Cooper.  You'll need it.  End transmission.  Static.  Silence.  The sound of a gunshot echoes in the distance.  Fade to black.  The end... or is it just the beginning?  Tune in next week for another thrilling installment of 'The Case of the Missing Robinson.'  Same time, same station.  Don't miss it.  Or else.  Click.  Whirr.  The tape recorder stops.  The detective's office is dark and silent once more.  The only sound is the steady drip, drip, drip of a leaky faucet.  A metaphor for the slow, relentless decay of this city.  A city where even the plumbing is crooked.  A city where hope goes to die.  A city called New Birminghamtonville.  Population:  234,432 (and counting down).  Stay tuned.  The story is far from over.  But for now, we fade to black.  The end.  Or is it?  Tune in next week.  Same time.  Same station.  Don't miss it.  Or else.  Click.  Whirr.  Silence.  The city sleeps.  Or does it?  Fade to black.  The end.  For now.  But not forever.  Stay tuned.  The city awaits.  New Birminghamtonville.  Population:  234,432 (and dwindling).  The end.  Or is it?  Tune in next week.  Same time.  Same station.  Don't miss it.  Or else.  Click.  Whirr.  Silence.  Fade to black.  The end.  For now.  Stay tuned.  New Birminghamtonville.  Population:  234,432 (and falling).  The end.  Or is it?  Tune in next week.  Same time.  Same station.  Don't miss it.  Or else.  Click.  Whirr.  Silence.  Fade to black.  The end.  For now.  Stay tuned.  New Birminghamtonville.  Population:  234,432 (and disappearing).  The end.  Or is it?  Tune in next week.  Same time.  Same station.  Don't miss it.  Or else.  Click.  Whirr.  Silence.  Fade to black.  The end.  For now.  Stay tuned.  New Birminghamtonville.  Population:  234,432 (and vanishing).  The end.  Or is it?  Tune in next week.  Same time.  Same station.  Don't miss it.  Or else.  Click.  Whirr.  Silence.  Fade to black.  The end.  For now.  Stay tuned.  New Birminghamtonville.  Population:  234,432 (and fading away).  The end.  Or is it?  Tune in next week.  Same time.  Same station.  Don't miss it.  Or else.  Click.  Whirr.  Silence.  Fade to black.  The end.  For now.  Stay tuned.  New Birminghamtonville.  Population:  234,432 (and gone).  The end.  Or is\"\n",
       "              }\n",
       "            ],\n",
       "            \"role\": \"model\"\n",
       "          },\n",
       "          \"finish_reason\": \"MAX_TOKENS\",\n",
       "          \"avg_logprobs\": -0.17522089183330536\n",
       "        }\n",
       "      ],\n",
       "      \"usage_metadata\": {\n",
       "        \"prompt_token_count\": 171,\n",
       "        \"candidates_token_count\": 1024,\n",
       "        \"total_token_count\": 1195\n",
       "      }\n",
       "    }),\n",
       ")"
      ]
     },
     "execution_count": 15,
     "metadata": {},
     "output_type": "execute_result"
    }
   ],
   "source": [
    "prompt = \"\"\"\n",
    "You are a creative writer.\n",
    "I want you to provide a few paragraphs describing a city from the United States in the 1920s,\n",
    "using a detective noir style.\n",
    "The city has a corrupt government.\n",
    "Gangsters on the South Side are making a lot of money\n",
    "from bootleg liquor during Prohibition.\n",
    "Mrs. Lucille Robinson has hired Detective Harston Cooper \n",
    "to find her missing husband, Roland Robinson.\n",
    "\n",
    "In your response, provide 4 properties of the \"city\":\n",
    "\"name\": \"name of the city\",\n",
    "\"description\": \"description of the city\",\n",
    "\"atmosphere\": \"the feeling of the city when you walk around\",\n",
    "\"mood\": \"describe how people feel\"\n",
    "\n",
    "The 'description', 'atmosphere', and 'mood' should only be a couple of sentences each.\n",
    "\"\"\"\n",
    "raw_response = generativeai.GenerativeModel(\n",
    "    model_name=GEMINI_1_5_PRO,\n",
    "    generation_config=generation_configuration_with_schema,\n",
    ").generate_content(prompt)\n",
    "raw_response"
   ]
  },
  {
   "cell_type": "markdown",
   "id": "23534d77-37ec-4d77-99de-846ab5e965d4",
   "metadata": {},
   "source": [
    "#### Analysis\n",
    "\n",
    "This is a bad response clearly. Besides the semantics being weird, even the format is incorrect.\n",
    "\n",
    "Note: `\"finish_reason\": \"MAX_TOKENS\"` in the response identifies this as a truncated response."
   ]
  },
  {
   "cell_type": "markdown",
   "id": "ada91df7-e1a2-4535-8ce2-f3398cad3590",
   "metadata": {},
   "source": [
    "### Option 2b\n",
    "\n",
    "Modify the prompt slightly from (2a), keeping the `response_schema` in the configuration."
   ]
  },
  {
   "cell_type": "code",
   "execution_count": 16,
   "id": "4c24a06d-f863-41ac-9834-4ebbfcd4dfb1",
   "metadata": {},
   "outputs": [
    {
     "data": {
      "text/plain": [
       "response:\n",
       "GenerateContentResponse(\n",
       "    done=True,\n",
       "    iterator=None,\n",
       "    result=protos.GenerateContentResponse({\n",
       "      \"candidates\": [\n",
       "        {\n",
       "          \"content\": {\n",
       "            \"parts\": [\n",
       "              {\n",
       "                \"text\": \"{\\\"city\\\": {\\\"name\\\": \\\"New Corinthiana, IL (fictional city name) during the Roaring Twenties era of the United States of America in the 1920s decade of the 20th century A.D. Gregorian calendar year time period and epoch of human history and civilization and development and progress and advancement and growth and evolution and improvement and betterment and enhancement and refinement and sophistication and modernization and industrialization and urbanization and globalization and technological innovation and scientific discovery and artistic expression and cultural exchange and social interaction and political discourse and economic activity and environmental awareness and sustainability and responsibility and stewardship and conservation and preservation and protection and restoration and remediation and mitigation and adaptation and resilience and transformation and innovation and creativity and imagination and inspiration and ingenuity and resourcefulness and entrepreneurship and leadership and vision and strategy and planning and execution and implementation and management and organization and coordination and collaboration and communication and cooperation and teamwork and partnership and alliance and community and society and culture and civilization and humanity and human rights and social justice and equality and diversity and inclusion and equity and fairness and opportunity and prosperity and peace and harmony and happiness and well-being and fulfillment and purpose and meaning and significance and value and worth and dignity and respect and honor and integrity and ethics and morality and virtue and wisdom and knowledge and understanding and learning and education and training and development and growth and evolution and improvement and betterment and enhancement and refinement and sophistication and modernization and industrialization and urbanization and globalization and technological innovation and scientific discovery and artistic expression and cultural exchange and social interaction and political discourse and economic activity and environmental awareness and sustainability and responsibility and stewardship and conservation and preservation and protection and restoration and remediation and mitigation and adaptation and resilience and transformation and innovation and creativity and imagination and inspiration and ingenuity and resourcefulness and entrepreneurship and leadership and vision and strategy and planning and execution and implementation and management and organization and coordination and collaboration and communication and cooperation and teamwork and partnership and alliance and community and society and culture and civilization and humanity and human rights and social justice and equality and diversity and inclusion and equity and fairness and opportunity and prosperity and peace and harmony and happiness and well-being and fulfillment and purpose and meaning and significance and value and worth and dignity and respect and honor and integrity and ethics and morality and virtue and wisdom and knowledge and understanding and learning and education and training and development and growth and evolution and improvement and betterment and enhancement and refinement and sophistication and modernization and industrialization and urbanization and globalization and technological innovation and scientific discovery and artistic expression and cultural exchange and social interaction and political discourse and economic activity and environmental awareness and sustainability and responsibility and stewardship and conservation and preservation and protection and restoration and remediation and mitigation and adaptation and resilience and transformation and innovation and creativity and imagination and inspiration and ingenuity and resourcefulness and entrepreneurship and leadership and vision and strategy and planning and execution and implementation and management and organization and coordination and collaboration and communication and cooperation and teamwork and partnership and alliance and community and society and culture and civilization and humanity and human rights and social justice and equality and diversity and inclusion and equity and fairness and opportunity and prosperity and peace and harmony and happiness and well-being and fulfillment and purpose and meaning and significance and value and worth and dignity and respect and honor and integrity and ethics and morality and virtue and wisdom and knowledge and understanding and learning and education and training and development and growth and evolution and improvement and betterment and enhancement and refinement and sophistication and modernization and industrialization and urbanization and globalization and technological innovation and scientific discovery and artistic expression and cultural exchange and social interaction and political discourse and economic activity and environmental awareness and sustainability and responsibility and stewardship and conservation and preservation and protection and restoration and remediation and mitigation and adaptation and resilience and transformation and innovation and creativity and imagination and inspiration and ingenuity and resourcefulness and entrepreneurship and leadership and vision and strategy and planning and execution and implementation and management and organization and coordination and collaboration and communication and cooperation and teamwork and partnership and alliance and community and society and culture and civilization and humanity and human rights and social justice and equality and diversity and inclusion and equity and fairness and opportunity and prosperity and peace and harmony and happiness and well-being and fulfillment and purpose and meaning and significance and value and worth and dignity and respect and honor and integrity and ethics and morality and virtue and wisdom and knowledge and understanding and learning and education and training and development and growth and evolution and improvement and betterment and enhancement and refinement and sophistication and modernization and industrialization and urbanization and globalization and technological innovation and scientific discovery and artistic expression and cultural exchange and social interaction and political discourse and economic activity and environmental awareness and sustainability and responsibility and stewardship and conservation and preservation and protection and restoration and remediation and mitigation and adaptation and resilience and transformation and innovation and creativity and imagination and inspiration and ingenuity and resourcefulness and entrepreneurship and leadership and vision and strategy and planning and execution and implementation and management and organization and coordination and collaboration and communication and cooperation and teamwork and partnership and alliance and community and society and culture and civilization and humanity and human rights and social justice and equality and diversity and inclusion and equity and fairness and opportunity and prosperity and peace and harmony and happiness and well-being and fulfillment and purpose and meaning and significance and value\"\n",
       "              }\n",
       "            ],\n",
       "            \"role\": \"model\"\n",
       "          },\n",
       "          \"finish_reason\": \"MAX_TOKENS\",\n",
       "          \"avg_logprobs\": -0.06291848421096802\n",
       "        }\n",
       "      ],\n",
       "      \"usage_metadata\": {\n",
       "        \"prompt_token_count\": 150,\n",
       "        \"candidates_token_count\": 1024,\n",
       "        \"total_token_count\": 1174\n",
       "      }\n",
       "    }),\n",
       ")"
      ]
     },
     "execution_count": 16,
     "metadata": {},
     "output_type": "execute_result"
    }
   ],
   "source": [
    "prompt = \"\"\"\n",
    "You are a creative writer.\n",
    "I want you to provide a few paragraphs describing a city from the United States in the 1920s,\n",
    "using a detective noir style.\n",
    "The city has a corrupt government.\n",
    "Gangsters on the South Side are making a lot of money\n",
    "from bootleg liquor during Prohibition.\n",
    "Mrs. Lucille Robinson has hired Detective Harston Cooper \n",
    "to find her missing husband, Roland Robinson.\n",
    "\n",
    "In your response, provide 4 properties of the \"city\":\n",
    "\"name\": \"name of the city\",\n",
    "\"description\": \"description of the city\",\n",
    "\"atmosphere\": \"the feeling of the city when you walk around\",\n",
    "\"mood\": \"describe how people feel\"\n",
    "\"\"\"\n",
    "raw_response = generativeai.GenerativeModel(\n",
    "    model_name=GEMINI_1_5_PRO,\n",
    "    generation_config=generation_configuration_with_schema,\n",
    ").generate_content(prompt)\n",
    "raw_response"
   ]
  },
  {
   "cell_type": "markdown",
   "id": "9757eff2-bd78-43d1-ae2f-6cf0c948785a",
   "metadata": {},
   "source": [
    "### Option 2c\n",
    "\n",
    "Remove more of the instructions from (2b), keeping the response_schema in the configuration."
   ]
  },
  {
   "cell_type": "code",
   "execution_count": 17,
   "id": "a42cc9ac-d121-4369-800a-2d5a6d82dec4",
   "metadata": {},
   "outputs": [
    {
     "data": {
      "text/plain": [
       "response:\n",
       "GenerateContentResponse(\n",
       "    done=True,\n",
       "    iterator=None,\n",
       "    result=protos.GenerateContentResponse({\n",
       "      \"candidates\": [\n",
       "        {\n",
       "          \"content\": {\n",
       "            \"parts\": [\n",
       "              {\n",
       "                \"text\": \"{\\\"city\\\": {\\\"atmosphere\\\": \\\"A thick fog hung over the city, clinging to the cold, damp streets like a shroud.  The air was heavy with the scent of coal smoke and desperation.\\\", \\\"description\\\": \\\"Chicago, 1927. The city was a symphony of shadows and whispers, a place where the lines between right and wrong blurred into the gray twilight of corruption.  The glittering lights of the jazz clubs on the North Side cast long, distorted fingers into the darkness, while the South Side simmered with the unspoken threat of violence.  Beneath the veneer of prosperity, a current of unease ran through the city's veins, a silent acknowledgment of the rot that festered at its core.\\\", \\\"mood\\\": \\\"Ominous and tense\\\", \\\"name\\\": \\\"Chicago\\\"}}\"\n",
       "              }\n",
       "            ],\n",
       "            \"role\": \"model\"\n",
       "          },\n",
       "          \"finish_reason\": \"STOP\",\n",
       "          \"avg_logprobs\": -0.14879974318139347\n",
       "        }\n",
       "      ],\n",
       "      \"usage_metadata\": {\n",
       "        \"prompt_token_count\": 91,\n",
       "        \"candidates_token_count\": 162,\n",
       "        \"total_token_count\": 253\n",
       "      }\n",
       "    }),\n",
       ")"
      ]
     },
     "execution_count": 17,
     "metadata": {},
     "output_type": "execute_result"
    }
   ],
   "source": [
    "prompt = \"\"\"\n",
    "You are a creative writer.\n",
    "I want you to provide a few paragraphs describing a city from the United States in the 1920s,\n",
    "using a detective noir style.\n",
    "The city has a corrupt government.\n",
    "Gangsters on the South Side are making a lot of money\n",
    "from bootleg liquor during Prohibition.\n",
    "Mrs. Lucille Robinson has hired Detective Harston Cooper \n",
    "to find her missing husband, Roland Robinson.\n",
    "\"\"\"\n",
    "raw_response = generativeai.GenerativeModel(\n",
    "    model_name=GEMINI_1_5_PRO,\n",
    "    generation_config=generation_configuration_with_schema,\n",
    ").generate_content(prompt)\n",
    "raw_response"
   ]
  },
  {
   "cell_type": "code",
   "execution_count": 18,
   "id": "11690d1b-3a9f-43f8-8ef6-16cee3408657",
   "metadata": {},
   "outputs": [
    {
     "data": {
      "text/plain": [
       "{'city': {'atmosphere': 'A thick fog hung over the city, clinging to the cold, damp streets like a shroud.  The air was heavy with the scent of coal smoke and desperation.',\n",
       "  'description': \"Chicago, 1927. The city was a symphony of shadows and whispers, a place where the lines between right and wrong blurred into the gray twilight of corruption.  The glittering lights of the jazz clubs on the North Side cast long, distorted fingers into the darkness, while the South Side simmered with the unspoken threat of violence.  Beneath the veneer of prosperity, a current of unease ran through the city's veins, a silent acknowledgment of the rot that festered at its core.\",\n",
       "  'mood': 'Ominous and tense',\n",
       "  'name': 'Chicago'}}"
      ]
     },
     "execution_count": 18,
     "metadata": {},
     "output_type": "execute_result"
    }
   ],
   "source": [
    "response = json.loads(raw_response.text)\n",
    "response"
   ]
  },
  {
   "cell_type": "markdown",
   "id": "737f73f6-583e-472b-bf70-f266586c8a1b",
   "metadata": {},
   "source": [
    "#### Analysis\n",
    "\n",
    "The response above is good:\n",
    "\n",
    "- The `city` object has all four of the requested properties.\n",
    "- The structure is well-formed."
   ]
  },
  {
   "cell_type": "code",
   "execution_count": null,
   "id": "cd08d08e-530b-453e-baca-525301bba47c",
   "metadata": {},
   "outputs": [],
   "source": []
  },
  {
   "cell_type": "code",
   "execution_count": null,
   "id": "5da00259-82c8-41c7-bd90-4755437a3ee3",
   "metadata": {},
   "outputs": [],
   "source": []
  }
 ],
 "metadata": {
  "kernelspec": {
   "display_name": "Python 3",
   "language": "python",
   "name": "python3"
  },
  "language_info": {
   "codemirror_mode": {
    "name": "ipython",
    "version": 3
   },
   "file_extension": ".py",
   "mimetype": "text/x-python",
   "name": "python",
   "nbconvert_exporter": "python",
   "pygments_lexer": "ipython3",
   "version": "3.12.4"
  }
 },
 "nbformat": 4,
 "nbformat_minor": 5
}
