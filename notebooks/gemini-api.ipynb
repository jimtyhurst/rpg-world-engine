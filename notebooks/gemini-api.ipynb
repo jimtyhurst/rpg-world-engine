{
 "cells": [
  {
   "cell_type": "markdown",
   "id": "1a3b05f4-5102-4755-a722-c07fbd9dfe3a",
   "metadata": {},
   "source": [
    "# Shows how to access Google's Gemini LLM"
   ]
  },
  {
   "cell_type": "markdown",
   "id": "60c44de5-be7f-4453-a7c0-c8361ccb099b",
   "metadata": {},
   "source": [
    "## Prerequisites\n",
    "\n",
    "1. You need an API key to access the Gemini API.\n",
    "    - See the documentation, \"Get a Gemini API key\", at: https://ai.google.dev/gemini-api/docs/api-key\n",
    "2. Choose a Gemini model to use.\n",
    "    - See the documentation, \"Gemini models\", at: https://ai.google.dev/gemini-api/docs/models/gemini\n",
    "    - They are free (as of 2024-12-29), but they have different rate limits,\n",
    "        token limits, and supported data types.\n",
    "3. Choose an API.\n",
    "    - `google-generativeai`\n",
    "        - We use this API in this notebook.\n",
    "        - https://pypi.org/project/google-generativeai/\n",
    "        - https://ai.google.dev/gemini-api/docs/quickstart?lang=python\n",
    "        - This API provides more fine-grained control over model behavior, so\n",
    "            you have greater ability to customize the LLM usage.\n",
    "    - `google-genai`\n",
    "        - We are _not_ using this API in this notebook.\n",
    "        - https://pypi.org/project/google-genai/\n",
    "        - https://googleapis.github.io/python-genai/\n",
    "        - This API is more concise and simplified.\n",
    "        - The documentation says, \"Please do not use this SDK in production.\""
   ]
  },
  {
   "cell_type": "code",
   "execution_count": 1,
   "id": "6d00a462-185a-47f5-84c9-08168dfc01f4",
   "metadata": {},
   "outputs": [],
   "source": [
    "import dotenv\n",
    "import os\n",
    "import google.generativeai as generativeai\n",
    "import json"
   ]
  },
  {
   "cell_type": "code",
   "execution_count": 2,
   "id": "26f59ef6-a4b5-4c27-9532-04729a6985c5",
   "metadata": {},
   "outputs": [],
   "source": [
    "# List of possible models: https://ai.google.dev/gemini-api/docs/models/gemini\n",
    "# We experiment with a few different models in this notebook:\n",
    "GEMINI_1_5_FLASH = \"gemini-1.5-flash\"\n",
    "GEMINI_1_5_PRO = \"gemini-1.5-pro\"\n",
    "GEMINI_2_0_FLASH_EXP = \"gemini-2.0-flash-exp\"\n",
    "\n",
    "# The name of the key that you have defined as one of:\n",
    "#   - an environment variable;\n",
    "#   - in a .env file; or\n",
    "#   - as a Secret in Google Colab.\n",
    "GEMINI_API_KEY_NAME = \"GEMINI_API_KEY\""
   ]
  },
  {
   "cell_type": "markdown",
   "id": "d43823d5-9acb-408f-a796-b5f6025eb865",
   "metadata": {},
   "source": [
    "## Load API Key"
   ]
  },
  {
   "cell_type": "code",
   "execution_count": 3,
   "id": "d0a3ed4e-77cf-48d2-9b76-3dfe2891d185",
   "metadata": {},
   "outputs": [],
   "source": [
    "# Loads variables defined in '.env' file as environment variables.\n",
    "#   override=False means that the value of the variable in the environment\n",
    "#     takes precedence over the value of the variable in the '.env' file.\n",
    "_ = dotenv.load_dotenv(override=False)\n",
    "GEMINI_API_KEY_VALUE = os.environ.get(GEMINI_API_KEY_NAME)"
   ]
  },
  {
   "cell_type": "code",
   "execution_count": 4,
   "id": "eb626e34-8cd2-4081-93af-84290f41cf09",
   "metadata": {},
   "outputs": [],
   "source": [
    "# In Google Colab, you have two options:\n",
    "# (1) Prompt the user for the key value:\n",
    "# import getpass\n",
    "# GEMINI_API_KEY_VALUE = getpass.getpass()\n",
    "# -or-\n",
    "# (2) Save your API Key in the Secrets, then read that value:\n",
    "# from google.colab import userdata\n",
    "# GEMINI_API_KEY_VALUE = userdata.get('GEMINI_API_KEY_NAME')"
   ]
  },
  {
   "cell_type": "markdown",
   "id": "fb66f700-bedb-4b58-a05b-a19050bef7d8",
   "metadata": {},
   "source": [
    "## Get a model that returns JSON\n",
    "\n",
    "See:\n",
    "\n",
    "- https://ai.google.dev/gemini-api/docs/quickstart?lang=python#make-first-request\n",
    "- https://github.com/google-gemini/cookbook/blob/main/quickstarts/JSON_mode.ipynb\n",
    "- https://cloud.google.com/vertex-ai/generative-ai/docs/model-reference/inference#python\n",
    "- https://cloud.google.com/vertex-ai/generative-ai/docs/reference/python/latest/vertexai.generative_models.GenerationConfig"
   ]
  },
  {
   "cell_type": "code",
   "execution_count": 5,
   "id": "f0f8ccab-60c7-4135-8e1c-0582980cca0b",
   "metadata": {},
   "outputs": [],
   "source": [
    "generativeai.configure(api_key=GEMINI_API_KEY_VALUE)\n",
    "generation_configuration = generativeai.GenerationConfig(\n",
    "    temperature=1.0,\n",
    "    candidate_count=1,\n",
    "    max_output_tokens=1024,\n",
    "    response_mime_type=\"application/json\",\n",
    ")\n",
    "model = generativeai.GenerativeModel(\n",
    "    model_name=GEMINI_2_0_FLASH_EXP, generation_config=generation_configuration\n",
    ")"
   ]
  },
  {
   "cell_type": "markdown",
   "id": "4aab990d-4aec-4fd3-9659-68326d63988e",
   "metadata": {},
   "source": [
    "## Submit a prompt"
   ]
  },
  {
   "cell_type": "code",
   "execution_count": 6,
   "id": "7b07ce12-b24c-4e84-be21-5bdaa7976a0d",
   "metadata": {},
   "outputs": [],
   "source": [
    "prompt = \"\"\"\n",
    "You are a creative writer.\n",
    "I want you to provide a few paragraphs describing a city from the United States in the 1920s,\n",
    "using a detective noir style.\n",
    "The city has a corrupt government.\n",
    "Gangsters on the South Side are making a lot of money\n",
    "from bootleg liquor during Prohibition.\n",
    "Detective Harston Cooper is trying to help Mrs. Lucille Robinson\n",
    "to find her missing husband, Roland Robinson.\n",
    "Provide the response as JSON in this format:\n",
    "{\n",
    "  \"city\": {\n",
    "    \"name\": ,\n",
    "    \"description\": ,\n",
    "    \"atmosphere\": ,\n",
    "    \"mood\":\n",
    "  }\n",
    "}\n",
    "\"\"\""
   ]
  },
  {
   "cell_type": "code",
   "execution_count": 7,
   "id": "429b5a3b-846b-4974-9814-cc2f12b39db4",
   "metadata": {},
   "outputs": [
    {
     "data": {
      "text/plain": [
       "response:\n",
       "GenerateContentResponse(\n",
       "    done=True,\n",
       "    iterator=None,\n",
       "    result=protos.GenerateContentResponse({\n",
       "      \"candidates\": [\n",
       "        {\n",
       "          \"content\": {\n",
       "            \"parts\": [\n",
       "              {\n",
       "                \"text\": \"{\\n  \\\"city\\\": {\\n    \\\"name\\\": \\\"Steel City\\\",\\n    \\\"description\\\": \\\"Steel City was a beast of iron and grime, its towering factories belching smoke into the perpetually gray sky. The air hung thick with the stench of coal and desperation, a grim symphony of clanging metal and the low rumble of discontent. The grand facades of downtown hid a rot that festered beneath the surface, where backroom deals and whispered promises greased the wheels of a corrupt government. On the South Side, the streets were a labyrinth of speakeasies and darkened alleys, where the scent of cheap whiskey and danger clung to the brick walls.\\\",\\n    \\\"atmosphere\\\": \\\"The city was a pressure cooker, simmering with secrets and violence. Rain slicked the cobblestone streets, reflecting the neon glow of illicit bars and the flickering gas lamps, casting long, distorted shadows that seemed to writhe with a life of their own. Every corner held a potential threat, every smile a possible deception. The rhythmic pulse of jazz music from hidden clubs was a counterpoint to the ever-present feeling of unease.\\\",\\n    \\\"mood\\\": \\\"A palpable sense of dread hung over Steel City, like a shroud. The promise of the roaring twenties felt hollow here, replaced by a weary cynicism. Detective Harston Cooper, with his trench coat and world-weary gaze, navigated this murky landscape, trying to find a semblance of truth in a city drowning in lies. He felt the weight of the city's darkness pressing down on him, each step in his investigation drawing him deeper into the web of deceit, as he sought to unravel the mystery surrounding Roland Robinson's disappearance. Mrs. Lucille Robinson's desperate plea was a beacon in this city of shadows, a reminder that even in the deepest darkness, some hope for justice remained.\\\"\\n  }\\n}\"\n",
       "              }\n",
       "            ],\n",
       "            \"role\": \"model\"\n",
       "          },\n",
       "          \"finish_reason\": \"STOP\",\n",
       "          \"safety_ratings\": [\n",
       "            {\n",
       "              \"category\": \"HARM_CATEGORY_HATE_SPEECH\",\n",
       "              \"probability\": \"NEGLIGIBLE\"\n",
       "            },\n",
       "            {\n",
       "              \"category\": \"HARM_CATEGORY_DANGEROUS_CONTENT\",\n",
       "              \"probability\": \"NEGLIGIBLE\"\n",
       "            },\n",
       "            {\n",
       "              \"category\": \"HARM_CATEGORY_HARASSMENT\",\n",
       "              \"probability\": \"NEGLIGIBLE\"\n",
       "            },\n",
       "            {\n",
       "              \"category\": \"HARM_CATEGORY_SEXUALLY_EXPLICIT\",\n",
       "              \"probability\": \"NEGLIGIBLE\"\n",
       "            }\n",
       "          ],\n",
       "          \"avg_logprobs\": -0.5787193278209515\n",
       "        }\n",
       "      ],\n",
       "      \"usage_metadata\": {\n",
       "        \"prompt_token_count\": 138,\n",
       "        \"candidates_token_count\": 379,\n",
       "        \"total_token_count\": 517\n",
       "      }\n",
       "    }),\n",
       ")"
      ]
     },
     "execution_count": 7,
     "metadata": {},
     "output_type": "execute_result"
    }
   ],
   "source": [
    "raw_response = model.generate_content(prompt)\n",
    "raw_response"
   ]
  },
  {
   "cell_type": "code",
   "execution_count": 8,
   "id": "9011a19a-53d8-4c05-ab9e-424b7379dc03",
   "metadata": {},
   "outputs": [
    {
     "data": {
      "text/plain": [
       "{'city': {'name': 'Steel City',\n",
       "  'description': 'Steel City was a beast of iron and grime, its towering factories belching smoke into the perpetually gray sky. The air hung thick with the stench of coal and desperation, a grim symphony of clanging metal and the low rumble of discontent. The grand facades of downtown hid a rot that festered beneath the surface, where backroom deals and whispered promises greased the wheels of a corrupt government. On the South Side, the streets were a labyrinth of speakeasies and darkened alleys, where the scent of cheap whiskey and danger clung to the brick walls.',\n",
       "  'atmosphere': 'The city was a pressure cooker, simmering with secrets and violence. Rain slicked the cobblestone streets, reflecting the neon glow of illicit bars and the flickering gas lamps, casting long, distorted shadows that seemed to writhe with a life of their own. Every corner held a potential threat, every smile a possible deception. The rhythmic pulse of jazz music from hidden clubs was a counterpoint to the ever-present feeling of unease.',\n",
       "  'mood': \"A palpable sense of dread hung over Steel City, like a shroud. The promise of the roaring twenties felt hollow here, replaced by a weary cynicism. Detective Harston Cooper, with his trench coat and world-weary gaze, navigated this murky landscape, trying to find a semblance of truth in a city drowning in lies. He felt the weight of the city's darkness pressing down on him, each step in his investigation drawing him deeper into the web of deceit, as he sought to unravel the mystery surrounding Roland Robinson's disappearance. Mrs. Lucille Robinson's desperate plea was a beacon in this city of shadows, a reminder that even in the deepest darkness, some hope for justice remained.\"}}"
      ]
     },
     "execution_count": 8,
     "metadata": {},
     "output_type": "execute_result"
    }
   ],
   "source": [
    "response = json.loads(raw_response.text)\n",
    "response"
   ]
  },
  {
   "cell_type": "markdown",
   "id": "5cfc8551-17c6-4a56-b112-85a9cc936c9b",
   "metadata": {},
   "source": [
    "#### Analysis\n",
    "\n",
    "The response above is good, formatted as a `dict` with the structure that was requested in the prompt."
   ]
  },
  {
   "cell_type": "code",
   "execution_count": 9,
   "id": "8451b578-ffbc-40ce-9525-0e918dfbb8e5",
   "metadata": {},
   "outputs": [
    {
     "data": {
      "text/plain": [
       "dict"
      ]
     },
     "execution_count": 9,
     "metadata": {},
     "output_type": "execute_result"
    }
   ],
   "source": [
    "type(response)"
   ]
  },
  {
   "cell_type": "code",
   "execution_count": 10,
   "id": "38e2bc9b-9dad-4da8-9be6-8750c653e55d",
   "metadata": {},
   "outputs": [
    {
     "data": {
      "text/plain": [
       "'Steel City'"
      ]
     },
     "execution_count": 10,
     "metadata": {},
     "output_type": "execute_result"
    }
   ],
   "source": [
    "response[\"city\"][\"name\"]"
   ]
  },
  {
   "cell_type": "code",
   "execution_count": 11,
   "id": "d0ad4d26-8e03-407b-ab43-edffa18eab10",
   "metadata": {},
   "outputs": [
    {
     "data": {
      "text/plain": [
       "'Steel City was a beast of iron and grime, its towering factories belching smoke into the perpetually gray sky. The air hung thick with the stench of coal and desperation, a grim symphony of clanging metal and the low rumble of discontent. The grand facades of downtown hid a rot that festered beneath the surface, where backroom deals and whispered promises greased the wheels of a corrupt government. On the South Side, the streets were a labyrinth of speakeasies and darkened alleys, where the scent of cheap whiskey and danger clung to the brick walls.'"
      ]
     },
     "execution_count": 11,
     "metadata": {},
     "output_type": "execute_result"
    }
   ],
   "source": [
    "response[\"city\"][\"description\"]"
   ]
  },
  {
   "cell_type": "markdown",
   "id": "24f4a4c8-82f5-4de5-818d-114d6bfd7091",
   "metadata": {},
   "source": [
    "## response_schema\n",
    "\n",
    "Let's try another way to get the structure that we want in the response: The `GenerationConfig` constructor has a `response_schema` argument. According to: https://cloud.google.com/vertex-ai/generative-ai/docs/multimodal/control-generated-output\n",
    "as of this writing on 2024-12-29, `response_schema` only works with the following models:\n",
    "\n",
    "- \"gemini-1.5-flash\"\n",
    "- \"gemini-1.5-pro\""
   ]
  },
  {
   "cell_type": "markdown",
   "id": "c5127b98-e532-4afb-8bac-73b3dd4db5a2",
   "metadata": {},
   "source": [
    "### Option 1\n",
    "\n",
    "- Remove the instructions about JSON from the prompt,\n",
    "- but provide a `response_schema` in the `generation_config` argument\n",
    "to the `generate_content` method."
   ]
  },
  {
   "cell_type": "code",
   "execution_count": 12,
   "id": "e1663b06-a915-4732-ad3f-9f2f061a68ad",
   "metadata": {},
   "outputs": [],
   "source": [
    "prompt = \"\"\"\n",
    "You are a creative writer.\n",
    "I want you to provide a few paragraphs describing a city from the United States in the 1920s,\n",
    "using a detective noir style.\n",
    "The city has a corrupt government.\n",
    "Gangsters on the South Side are making a lot of money\n",
    "from bootleg liquor during Prohibition.\n",
    "Mrs. Lucille Robinson has hired Detective Harston Cooper \n",
    "to find her missing husband, Roland Robinson.\n",
    "\"\"\""
   ]
  },
  {
   "cell_type": "code",
   "execution_count": 13,
   "id": "5d68649d-4aee-45ff-b8b2-5b88fa6c4a6b",
   "metadata": {},
   "outputs": [
    {
     "data": {
      "text/plain": [
       "response:\n",
       "GenerateContentResponse(\n",
       "    done=True,\n",
       "    iterator=None,\n",
       "    result=protos.GenerateContentResponse({\n",
       "      \"candidates\": [\n",
       "        {\n",
       "          \"content\": {\n",
       "            \"parts\": [\n",
       "              {\n",
       "                \"text\": \"{\\\"city\\\": {\\\"atmosphere\\\": \\\"A thick fog hung over the city, clinging to the cold, damp streets like a shroud.  The air was heavy with the scent of coal smoke and cheap perfume, a grim symphony of despair and fleeting pleasure.\\\", \\\"description\\\": \\\"Chicago in the 1920s. A city of stark contrasts, where gleaming skyscrapers cast long shadows over the grimy alleys below.  A place where fortunes were made and lost in the blink of an eye, where the pursuit of pleasure masked a deep-seated corruption. The South Side, a labyrinth of speakeasies and gambling dens, pulsed with a dangerous energy, fueled by the illicit fortunes of bootlegging gangs.\\\", \\\"mood\\\": \\\"The city's mood was as unpredictable as a loaded dice roll. One moment, a burst of raucous laughter from a hidden speakeasy, the next, the chilling silence of a dark alley where secrets were buried.  A sense of unease permeated every corner, a constant reminder that beneath the veneer of prosperity, something sinister lurked.\\\", \\\"name\\\": \\\"Chicago\\\"}}\"\n",
       "              }\n",
       "            ],\n",
       "            \"role\": \"model\"\n",
       "          },\n",
       "          \"finish_reason\": \"STOP\",\n",
       "          \"avg_logprobs\": -0.10119120850156775\n",
       "        }\n",
       "      ],\n",
       "      \"usage_metadata\": {\n",
       "        \"prompt_token_count\": 91,\n",
       "        \"candidates_token_count\": 223,\n",
       "        \"total_token_count\": 314\n",
       "      }\n",
       "    }),\n",
       ")"
      ]
     },
     "execution_count": 13,
     "metadata": {},
     "output_type": "execute_result"
    }
   ],
   "source": [
    "generation_configuration_with_schema = generativeai.GenerationConfig(\n",
    "    temperature=0.0,\n",
    "    candidate_count=1,\n",
    "    max_output_tokens=1024,\n",
    "    response_mime_type=\"application/json\",\n",
    "    response_schema={\n",
    "        \"type\": \"OBJECT\",\n",
    "        \"properties\": {\n",
    "            \"city\": {\n",
    "                \"type\": \"OBJECT\",\n",
    "                \"properties\": {\n",
    "                    \"name\": {\"type\": \"STRING\"},\n",
    "                    \"description\": {\"type\": \"STRING\"},\n",
    "                    \"atmosphere\": {\"type\": \"STRING\"},\n",
    "                    \"mood\": {\"type\": \"STRING\"},\n",
    "                },\n",
    "            }\n",
    "        },\n",
    "    },\n",
    ")\n",
    "raw_response = generativeai.GenerativeModel(\n",
    "    model_name=GEMINI_1_5_PRO,\n",
    "    generation_config=generation_configuration_with_schema,\n",
    ").generate_content(prompt)\n",
    "raw_response"
   ]
  },
  {
   "cell_type": "code",
   "execution_count": 14,
   "id": "3a14c509-f606-4732-a2d0-0a1e8b40cbd5",
   "metadata": {},
   "outputs": [
    {
     "data": {
      "text/plain": [
       "{'city': {'atmosphere': 'A thick fog hung over the city, clinging to the cold, damp streets like a shroud.  The air was heavy with the scent of coal smoke and cheap perfume, a grim symphony of despair and fleeting pleasure.',\n",
       "  'description': 'Chicago in the 1920s. A city of stark contrasts, where gleaming skyscrapers cast long shadows over the grimy alleys below.  A place where fortunes were made and lost in the blink of an eye, where the pursuit of pleasure masked a deep-seated corruption. The South Side, a labyrinth of speakeasies and gambling dens, pulsed with a dangerous energy, fueled by the illicit fortunes of bootlegging gangs.',\n",
       "  'mood': \"The city's mood was as unpredictable as a loaded dice roll. One moment, a burst of raucous laughter from a hidden speakeasy, the next, the chilling silence of a dark alley where secrets were buried.  A sense of unease permeated every corner, a constant reminder that beneath the veneer of prosperity, something sinister lurked.\",\n",
       "  'name': 'Chicago'}}"
      ]
     },
     "execution_count": 14,
     "metadata": {},
     "output_type": "execute_result"
    }
   ],
   "source": [
    "response = json.loads(raw_response.text)\n",
    "response"
   ]
  },
  {
   "cell_type": "markdown",
   "id": "db56e1ab-1eb5-4d8e-bd8e-1236b5114268",
   "metadata": {},
   "source": [
    "#### Analysis\n",
    "\n",
    "The response above is good with well-formed JSON."
   ]
  },
  {
   "cell_type": "markdown",
   "id": "0a4f5610-6122-48db-84ba-3b065230a73b",
   "metadata": {},
   "source": [
    "### Option 2a\n",
    "\n",
    "Keep the JSON information in the prompt, as well as specifying\n",
    "the `response_schema`."
   ]
  },
  {
   "cell_type": "code",
   "execution_count": 15,
   "id": "1018d0df-6365-477d-92d2-6fecbdeb20bf",
   "metadata": {},
   "outputs": [
    {
     "data": {
      "text/plain": [
       "response:\n",
       "GenerateContentResponse(\n",
       "    done=True,\n",
       "    iterator=None,\n",
       "    result=protos.GenerateContentResponse({\n",
       "      \"candidates\": [\n",
       "        {\n",
       "          \"content\": {\n",
       "            \"parts\": [\n",
       "              {\n",
       "                \"text\": \"{\\\"city\\\": {\\\"name\\\": \\\"New Corinthiana, IL (fictional city name) during the Roaring Twenties era of the United States of America in the 1920s decade of the 20th century A.D. Gregorian calendar year time period and epoch of human history and civilization and development and progress and advancement and growth and evolution and improvement and betterment and prosperity and success and achievement and accomplishment and attainment and realization and fulfillment and consummation and perfection and completion and culmination and climax and apex and summit and pinnacle and zenith and acme and peak and crest and crown and capstone and keystone and cornerstone and foundation and groundwork and infrastructure and superstructure and edifice and monument and memorial and legacy and heritage and tradition and culture and customs and mores and values and beliefs and ideals and principles and standards and norms and rules and regulations and laws and statutes and ordinances and decrees and edicts and mandates and pronouncements and pronouncements and pronouncements and pronouncements and pronouncements and pronouncements and pronouncements and pronouncements and pronouncements and pronouncements and pronouncements and pronouncements and pronouncements and pronouncements and pronouncements and pronouncements and pronouncements and pronouncements and pronouncements and pronouncements and pronouncements and pronouncements and pronouncements and pronouncements and pronouncements and pronouncements and pronouncements and pronouncements and pronouncements and pronouncements and pronouncements and pronouncements and pronouncements and pronouncements and pronouncements and pronouncements and pronouncements and pronouncements and pronouncements and pronouncements and pronouncements and pronouncements and pronouncements and pronouncements and pronouncements and pronouncements and pronouncements and pronouncements and pronouncements and pronouncements and pronouncements and pronouncements and pronouncements and pronouncements and pronouncements and pronouncements and pronouncements and pronouncements and pronouncements and pronouncements and pronouncements and pronouncements and pronouncements and pronouncements and pronouncements and pronouncements and pronouncements and pronouncements and pronouncements and pronouncements and pronouncements and pronouncements and pronouncements and pronouncements and pronouncements and pronouncements and pronouncements and pronouncements and pronouncements and pronouncements and pronouncements and pronouncements and pronouncements and pronouncements and pronouncements and pronouncements and pronouncements and pronouncements and pronouncements and pronouncements and pronouncements and pronouncements and pronouncements and pronouncements and pronouncements and pronouncements and pronouncements and pronouncements and pronouncements and pronouncements and pronouncements and pronouncements and pronouncements and pronouncements and pronouncements and pronouncements and pronouncements and pronouncements and pronouncements and pronouncements and pronouncements and pronouncements and pronouncements and pronouncements and pronouncements and pronouncements and pronouncements and pronouncements and pronouncements and pronouncements and pronouncements and pronouncements and pronouncements and pronouncements and pronouncements and pronouncements and pronouncements and pronouncements and pronouncements and pronouncements and pronouncements and pronouncements and pronouncements and pronouncements and pronouncements and pronouncements and pronouncements and pronouncements and pronouncements and pronouncements and pronouncements and pronouncements and pronouncements and pronouncements and pronouncements and pronouncements and pronouncements and pronouncements and pronouncements and pronouncements and pronouncements and pronouncements and pronouncements and pronouncements and pronouncements and pronouncements and pronouncements and pronouncements and pronouncements and pronouncements and pronouncements and pronouncements and pronouncements and pronouncements and pronouncements and pronouncements and pronouncements and pronouncements and pronouncements and pronouncements and pronouncements and pronouncements and pronouncements and pronouncements and pronouncements and pronouncements and pronouncements and pronouncements and pronouncements and pronouncements and pronouncements and pronouncements and pronouncements and pronouncements and pronouncements and pronouncements and pronouncements and pronouncements and pronouncements and pronouncements and pronouncements and pronouncements and pronouncements and pronouncements and pronouncements and pronouncements and pronouncements and pronouncements and pronouncements and pronouncements and pronouncements and pronouncements and pronouncements and pronouncements and pronouncements and pronouncements and pronouncements and pronouncements and pronouncements and pronouncements and pronouncements and pronouncements and pronouncements and pronouncements and pronouncements and pronouncements and pronouncements and pronouncements and pronouncements and pronouncements and pronouncements and pronouncements and pronouncements and pronouncements and pronouncements and pronouncements and pronouncements and pronouncements and pronouncements and pronouncements and pronouncements and pronouncements and pronouncements and pronouncements and pronouncements and pronouncements and pronouncements and pronouncements and pronouncements and pronouncements and pronouncements and pronouncements and pronouncements and pronouncements and pronouncements and pronouncements and pronouncements and pronouncements and pronouncements and pronouncements and pronouncements and pronouncements and pronouncements and pronouncements and pronouncements and pronouncements and pronouncements and pronouncements and pronouncements and pronouncements and pronouncements and pronouncements and pronouncements and pronouncements and pronouncements and pronouncements and pronouncements and pronouncements and pronouncements and pronouncements and pronouncements and pronouncements and pronouncements and pronouncements and pronouncements and pronouncements and pronouncements and pronouncements and pronouncements and pronouncements and pronouncements and\"\n",
       "              }\n",
       "            ],\n",
       "            \"role\": \"model\"\n",
       "          },\n",
       "          \"finish_reason\": \"MAX_TOKENS\",\n",
       "          \"avg_logprobs\": -0.056716278195381165\n",
       "        }\n",
       "      ],\n",
       "      \"usage_metadata\": {\n",
       "        \"prompt_token_count\": 171,\n",
       "        \"candidates_token_count\": 1024,\n",
       "        \"total_token_count\": 1195\n",
       "      }\n",
       "    }),\n",
       ")"
      ]
     },
     "execution_count": 15,
     "metadata": {},
     "output_type": "execute_result"
    }
   ],
   "source": [
    "prompt = \"\"\"\n",
    "You are a creative writer.\n",
    "I want you to provide a few paragraphs describing a city from the United States in the 1920s,\n",
    "using a detective noir style.\n",
    "The city has a corrupt government.\n",
    "Gangsters on the South Side are making a lot of money\n",
    "from bootleg liquor during Prohibition.\n",
    "Mrs. Lucille Robinson has hired Detective Harston Cooper \n",
    "to find her missing husband, Roland Robinson.\n",
    "\n",
    "In your response, provide 4 properties of the \"city\":\n",
    "\"name\": \"name of the city\",\n",
    "\"description\": \"description of the city\",\n",
    "\"atmosphere\": \"the feeling of the city when you walk around\",\n",
    "\"mood\": \"describe how people feel\"\n",
    "\n",
    "The 'description', 'atmosphere', and 'mood' should only be a couple of sentences each.\n",
    "\"\"\"\n",
    "raw_response = generativeai.GenerativeModel(\n",
    "    model_name=GEMINI_1_5_PRO,\n",
    "    generation_config=generation_configuration_with_schema,\n",
    ").generate_content(prompt)\n",
    "raw_response"
   ]
  },
  {
   "cell_type": "markdown",
   "id": "23534d77-37ec-4d77-99de-846ab5e965d4",
   "metadata": {},
   "source": [
    "#### Analysis\n",
    "\n",
    "This is a bad response clearly. Besides the semantics being weird, even the format is incorrect.\n",
    "\n",
    "Note: `\"finish_reason\": \"MAX_TOKENS\"` in the response identifies this as a truncated response."
   ]
  },
  {
   "cell_type": "markdown",
   "id": "ada91df7-e1a2-4535-8ce2-f3398cad3590",
   "metadata": {},
   "source": [
    "### Option 2b\n",
    "\n",
    "Modify the prompt slightly from (2a), keeping the `response_schema` in the configuration."
   ]
  },
  {
   "cell_type": "code",
   "execution_count": 16,
   "id": "4c24a06d-f863-41ac-9834-4ebbfcd4dfb1",
   "metadata": {},
   "outputs": [
    {
     "data": {
      "text/plain": [
       "response:\n",
       "GenerateContentResponse(\n",
       "    done=True,\n",
       "    iterator=None,\n",
       "    result=protos.GenerateContentResponse({\n",
       "      \"candidates\": [\n",
       "        {\n",
       "          \"content\": {\n",
       "            \"parts\": [\n",
       "              {\n",
       "                \"text\": \"{\\\"city\\\": {\\\"name\\\": \\\"New Corinth, IL (fictional city name) during the Roaring Twenties era of the United States of America in the 1920s decade of the 20th century A.D. Gregorian calendar year time period and epoch of human history and civilization and development and progress and advancement and growth and evolution and prosperity and success and achievement and accomplishment and greatness and glory and grandeur and splendor and magnificence and brilliance and wonder and amazement and awe and inspiration and motivation and encouragement and hope and optimism and positivity and happiness and joy and love and peace and harmony and unity and togetherness and cooperation and collaboration and teamwork and synergy and innovation and creativity and imagination and ingenuity and resourcefulness and resilience and perseverance and determination and dedication and commitment and loyalty and integrity and honesty and truth and justice and fairness and equality and diversity and inclusion and respect and understanding and tolerance and compassion and empathy and kindness and generosity and philanthropy and altruism and humanitarianism and charity and benevolence and goodwill and friendship and camaraderie and fellowship and community and society and culture and civilization and humanity and mankind and humankind and the human race and the human family and the human condition and the human experience and the human spirit and the human soul and the human heart and the human mind and the human body and the human senses and the human emotions and the human feelings and the human thoughts and the human actions and the human interactions and the human relationships and the human connections and the human bonds and the human ties and the human links and the human networks and the human communities and the human societies and the human cultures and the human civilizations and the human world and the human universe and the human existence and the human life and the human journey and the human adventure and the human story and the human saga and the human history and the human future and the human destiny and the human fate and the human purpose and the human meaning and the human value and the human worth and the human dignity and the human rights and the human freedoms and the human liberties and the human responsibilities and the human duties and the human obligations and the human virtues and the human values and the human ideals and the human principles and the human standards and the human norms and the human customs and the human traditions and the human heritage and the human legacy and the human inheritance and the human endowment and the human gift and the human blessing and the human grace and the human favor and the human fortune and the human luck and the human chance and the human opportunity and the human potential and the human possibility and the human dream and the human vision and the human hope and the human faith and the human belief and the human trust and the human confidence and the human courage and the human strength and the human power and the human wisdom and the human knowledge and the human understanding and the human intelligence and the human creativity and the human imagination and the human ingenuity and the human resourcefulness and the human resilience and the human perseverance and the human determination and the human dedication and the human commitment and the human loyalty and the human integrity and the human honesty and the human truth and the human justice and the human fairness and the human equality and the human diversity and the human inclusion and the human respect and the human understanding and the human tolerance and the human compassion and the human empathy and the human kindness and the human generosity and the human philanthropy and the human altruism and the human humanitarianism and the human charity and the human benevolence and the human goodwill and the human friendship and the human camaraderie and the human fellowship and the human community and the human society and the human culture and the human civilization and the human humanity and the human mankind and the human humankind and the human human race and the human human family and the human human condition and the human human experience and the human human spirit and the human human soul and the human human heart and the human human mind and the human human body and the human human senses and the human human emotions and the human human feelings and the human human thoughts and the human human actions and the human human interactions and the human human relationships and the human human connections and the human human bonds and the human human ties and the human human links and the human human networks and the human human communities and the human human societies and the human human cultures and the human human civilizations and the human human world and the human human universe and the human human existence and the human human life and the human human journey and the human human adventure and the human human story and the human human saga and the human human history and the human human future and the human human destiny and the human human fate and the human human purpose and the human human meaning and the human human value and the human human worth and the human human dignity and the human human rights and the human human freedoms and the human human liberties and the human human responsibilities and the human human duties and the human human obligations and the human human virtues and the human human values and the human human ideals and the human human principles and the human human standards and the human human norms and the human human customs and the human human traditions and the human human heritage and the human human legacy and the human human inheritance and the human human\"\n",
       "              }\n",
       "            ],\n",
       "            \"role\": \"model\"\n",
       "          },\n",
       "          \"finish_reason\": \"MAX_TOKENS\",\n",
       "          \"avg_logprobs\": -0.07721635699272156\n",
       "        }\n",
       "      ],\n",
       "      \"usage_metadata\": {\n",
       "        \"prompt_token_count\": 150,\n",
       "        \"candidates_token_count\": 1024,\n",
       "        \"total_token_count\": 1174\n",
       "      }\n",
       "    }),\n",
       ")"
      ]
     },
     "execution_count": 16,
     "metadata": {},
     "output_type": "execute_result"
    }
   ],
   "source": [
    "prompt = \"\"\"\n",
    "You are a creative writer.\n",
    "I want you to provide a few paragraphs describing a city from the United States in the 1920s,\n",
    "using a detective noir style.\n",
    "The city has a corrupt government.\n",
    "Gangsters on the South Side are making a lot of money\n",
    "from bootleg liquor during Prohibition.\n",
    "Mrs. Lucille Robinson has hired Detective Harston Cooper \n",
    "to find her missing husband, Roland Robinson.\n",
    "\n",
    "In your response, provide 4 properties of the \"city\":\n",
    "\"name\": \"name of the city\",\n",
    "\"description\": \"description of the city\",\n",
    "\"atmosphere\": \"the feeling of the city when you walk around\",\n",
    "\"mood\": \"describe how people feel\"\n",
    "\"\"\"\n",
    "raw_response = generativeai.GenerativeModel(\n",
    "    model_name=GEMINI_1_5_PRO,\n",
    "    generation_config=generation_configuration_with_schema,\n",
    ").generate_content(prompt)\n",
    "raw_response"
   ]
  },
  {
   "cell_type": "markdown",
   "id": "9757eff2-bd78-43d1-ae2f-6cf0c948785a",
   "metadata": {},
   "source": [
    "### Option 2c\n",
    "\n",
    "Remove more of the instructions from (2b), keeping the response_schema in the configuration."
   ]
  },
  {
   "cell_type": "code",
   "execution_count": 17,
   "id": "a42cc9ac-d121-4369-800a-2d5a6d82dec4",
   "metadata": {},
   "outputs": [
    {
     "data": {
      "text/plain": [
       "response:\n",
       "GenerateContentResponse(\n",
       "    done=True,\n",
       "    iterator=None,\n",
       "    result=protos.GenerateContentResponse({\n",
       "      \"candidates\": [\n",
       "        {\n",
       "          \"content\": {\n",
       "            \"parts\": [\n",
       "              {\n",
       "                \"text\": \"{\\\"city\\\": {\\\"atmosphere\\\": \\\"A thick fog hung over the city, clinging to the cold, damp streets like a shroud.  The air was heavy with the scent of coal smoke and desperation.\\\", \\\"description\\\": \\\"Chicago in the 1920s. A city of stark contrasts. Opulence and poverty danced a dangerous tango in the flickering gaslight.  Skyscrapers clawed at the heavens, casting long shadows over the grimy alleys below.  The rattle of streetcars and the blare of jazz music from dimly lit speakeasies filled the night.\\\", \\\"mood\\\": \\\"The city was a symphony of shadows and whispers.  Corruption had seeped into every corner, from the highest echelons of power down to the beat cops on the street.  A sense of unease permeated the air, a premonition of violence lurking just around the corner.\\\", \\\"name\\\": \\\"Chicago\\\"}}\"\n",
       "              }\n",
       "            ],\n",
       "            \"role\": \"model\"\n",
       "          },\n",
       "          \"finish_reason\": \"STOP\",\n",
       "          \"avg_logprobs\": -0.10405940394247731\n",
       "        }\n",
       "      ],\n",
       "      \"usage_metadata\": {\n",
       "        \"prompt_token_count\": 91,\n",
       "        \"candidates_token_count\": 186,\n",
       "        \"total_token_count\": 277\n",
       "      }\n",
       "    }),\n",
       ")"
      ]
     },
     "execution_count": 17,
     "metadata": {},
     "output_type": "execute_result"
    }
   ],
   "source": [
    "prompt = \"\"\"\n",
    "You are a creative writer.\n",
    "I want you to provide a few paragraphs describing a city from the United States in the 1920s,\n",
    "using a detective noir style.\n",
    "The city has a corrupt government.\n",
    "Gangsters on the South Side are making a lot of money\n",
    "from bootleg liquor during Prohibition.\n",
    "Mrs. Lucille Robinson has hired Detective Harston Cooper \n",
    "to find her missing husband, Roland Robinson.\n",
    "\"\"\"\n",
    "raw_response = generativeai.GenerativeModel(\n",
    "    model_name=GEMINI_1_5_PRO,\n",
    "    generation_config=generation_configuration_with_schema,\n",
    ").generate_content(prompt)\n",
    "raw_response"
   ]
  },
  {
   "cell_type": "code",
   "execution_count": 18,
   "id": "11690d1b-3a9f-43f8-8ef6-16cee3408657",
   "metadata": {},
   "outputs": [
    {
     "data": {
      "text/plain": [
       "{'city': {'atmosphere': 'A thick fog hung over the city, clinging to the cold, damp streets like a shroud.  The air was heavy with the scent of coal smoke and desperation.',\n",
       "  'description': 'Chicago in the 1920s. A city of stark contrasts. Opulence and poverty danced a dangerous tango in the flickering gaslight.  Skyscrapers clawed at the heavens, casting long shadows over the grimy alleys below.  The rattle of streetcars and the blare of jazz music from dimly lit speakeasies filled the night.',\n",
       "  'mood': 'The city was a symphony of shadows and whispers.  Corruption had seeped into every corner, from the highest echelons of power down to the beat cops on the street.  A sense of unease permeated the air, a premonition of violence lurking just around the corner.',\n",
       "  'name': 'Chicago'}}"
      ]
     },
     "execution_count": 18,
     "metadata": {},
     "output_type": "execute_result"
    }
   ],
   "source": [
    "response = json.loads(raw_response.text)\n",
    "response"
   ]
  },
  {
   "cell_type": "markdown",
   "id": "737f73f6-583e-472b-bf70-f266586c8a1b",
   "metadata": {},
   "source": [
    "#### Analysis\n",
    "\n",
    "The response above is good:\n",
    "\n",
    "- The `city` object has all four of the requested properties.\n",
    "- The structure is well-formed."
   ]
  },
  {
   "cell_type": "code",
   "execution_count": null,
   "id": "cd08d08e-530b-453e-baca-525301bba47c",
   "metadata": {},
   "outputs": [],
   "source": []
  }
 ],
 "metadata": {
  "kernelspec": {
   "display_name": "rpg-world-engine",
   "language": "python",
   "name": "rpg-world-engine"
  },
  "language_info": {
   "codemirror_mode": {
    "name": "ipython",
    "version": 3
   },
   "file_extension": ".py",
   "mimetype": "text/x-python",
   "name": "python",
   "nbconvert_exporter": "python",
   "pygments_lexer": "ipython3",
   "version": "3.13.1"
  }
 },
 "nbformat": 4,
 "nbformat_minor": 5
}
