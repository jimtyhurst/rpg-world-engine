{
 "cells": [
  {
   "cell_type": "markdown",
   "id": "1a3b05f4-5102-4755-a722-c07fbd9dfe3a",
   "metadata": {},
   "source": [
    "# Shows how to access Google's Gemini LLM"
   ]
  },
  {
   "cell_type": "markdown",
   "id": "60c44de5-be7f-4453-a7c0-c8361ccb099b",
   "metadata": {},
   "source": [
    "## Prerequisites\n",
    "\n",
    "1. You need an API key to access the Gemini API.\n",
    "    - See the documentation, \"Get a Gemini API key\", at: https://ai.google.dev/gemini-api/docs/api-key\n",
    "2. Choose a Gemini model to use.\n",
    "    - See the documentation, \"Gemini models\", at: https://ai.google.dev/gemini-api/docs/models/gemini\n",
    "    - They are free (as of 2024-12-29), but they have different rate limits,\n",
    "        token limits, and supported data types.\n",
    "3. Choose an API.\n",
    "    - `google-generativeai`\n",
    "        - We use this API in this notebook.\n",
    "        - https://pypi.org/project/google-generativeai/\n",
    "        - https://ai.google.dev/gemini-api/docs/quickstart?lang=python\n",
    "        - This API provides more fine-grained control over model behavior, so\n",
    "            you have greater ability to customize the LLM usage.\n",
    "    - `google-genai`\n",
    "        - We are _not_ using this API in this notebook.\n",
    "        - https://pypi.org/project/google-genai/\n",
    "        - https://googleapis.github.io/python-genai/\n",
    "        - This API is more concise and simplified.\n",
    "        - The documentation says, \"Please do not use this SDK in production.\""
   ]
  },
  {
   "cell_type": "code",
   "execution_count": 1,
   "id": "6d00a462-185a-47f5-84c9-08168dfc01f4",
   "metadata": {},
   "outputs": [],
   "source": [
    "import dotenv\n",
    "import os\n",
    "import google.generativeai as generativeai\n",
    "import json"
   ]
  },
  {
   "cell_type": "code",
   "execution_count": 2,
   "id": "26f59ef6-a4b5-4c27-9532-04729a6985c5",
   "metadata": {},
   "outputs": [],
   "source": [
    "# List of possible models: https://ai.google.dev/gemini-api/docs/models/gemini\n",
    "GEMINI_MODEL_NAME = \"gemini-2.0-flash-exp\"\n",
    "\n",
    "# The name of the key that you have defined as one of:\n",
    "#   - an environment variable;\n",
    "#   - in a .env file; or\n",
    "#   - as a Secret in Google Colab.\n",
    "GEMINI_API_KEY_NAME = \"GEMINI_API_KEY\""
   ]
  },
  {
   "cell_type": "markdown",
   "id": "d43823d5-9acb-408f-a796-b5f6025eb865",
   "metadata": {},
   "source": [
    "## Load API Key"
   ]
  },
  {
   "cell_type": "code",
   "execution_count": 3,
   "id": "d0a3ed4e-77cf-48d2-9b76-3dfe2891d185",
   "metadata": {},
   "outputs": [],
   "source": [
    "# Loads variables defined in '.env' file as environment variables.\n",
    "#   override=False means that the value of the variable in the environment\n",
    "#     takes precedence over the value of the variable in the '.env' file.\n",
    "_ = dotenv.load_dotenv(override=False)\n",
    "GEMINI_API_KEY_VALUE = os.environ.get(GEMINI_API_KEY_NAME)"
   ]
  },
  {
   "cell_type": "code",
   "execution_count": 4,
   "id": "eb626e34-8cd2-4081-93af-84290f41cf09",
   "metadata": {},
   "outputs": [],
   "source": [
    "# In Google Colab, you have two options:\n",
    "# (1) Prompt the user for the key value:\n",
    "# import getpass\n",
    "# GEMINI_API_KEY_VALUE = getpass.getpass()\n",
    "# -or-\n",
    "# (2) Save your API Key in the Secrets, then read that value:\n",
    "# from google.colab import userdata\n",
    "# GEMINI_API_KEY_VALUE = userdata.get('GEMINI_API_KEY_NAME')"
   ]
  },
  {
   "cell_type": "markdown",
   "id": "fb66f700-bedb-4b58-a05b-a19050bef7d8",
   "metadata": {},
   "source": [
    "## Get a model that returns JSON\n",
    "\n",
    "See:\n",
    "\n",
    "- https://ai.google.dev/gemini-api/docs/quickstart?lang=python#make-first-request\n",
    "- https://github.com/google-gemini/cookbook/blob/main/quickstarts/JSON_mode.ipynb\n",
    "- https://cloud.google.com/vertex-ai/generative-ai/docs/model-reference/inference#python\n",
    "- https://cloud.google.com/vertex-ai/generative-ai/docs/reference/python/latest/vertexai.generative_models.GenerationConfig"
   ]
  },
  {
   "cell_type": "code",
   "execution_count": 5,
   "id": "f0f8ccab-60c7-4135-8e1c-0582980cca0b",
   "metadata": {},
   "outputs": [],
   "source": [
    "generativeai.configure(api_key=GEMINI_API_KEY_VALUE)\n",
    "generation_configuration = generativeai.GenerationConfig(\n",
    "    temperature=1.0,\n",
    "    candidate_count=1,\n",
    "    max_output_tokens=1024,\n",
    "    response_mime_type=\"application/json\",\n",
    ")\n",
    "model = generativeai.GenerativeModel(\n",
    "    GEMINI_MODEL_NAME, generation_config=generation_configuration\n",
    ")"
   ]
  },
  {
   "cell_type": "markdown",
   "id": "4aab990d-4aec-4fd3-9659-68326d63988e",
   "metadata": {},
   "source": [
    "## Submit a prompt"
   ]
  },
  {
   "cell_type": "code",
   "execution_count": 6,
   "id": "7b07ce12-b24c-4e84-be21-5bdaa7976a0d",
   "metadata": {},
   "outputs": [],
   "source": [
    "prompt = \"\"\"\n",
    "You are a creative writer.\n",
    "I want you to provide a few paragraphs describing a city from the United States in the 1920s,\n",
    "using a detective noir style.\n",
    "The city has a corrupt government.\n",
    "Gangsters on the South Side are making a lot of money\n",
    "from bootleg liquor during Prohibition.\n",
    "Detective Harston Cooper is trying to help Mrs. Lucille Robinson\n",
    "to find her missing husband, Roland Robinson.\n",
    "Provide the response as JSON in this format:\n",
    "{\n",
    "  \"city\": {\n",
    "    \"name\": ,\n",
    "    \"description\": ,\n",
    "    \"atmosphere\": ,\n",
    "    \"mood\":\n",
    "  }\n",
    "}\n",
    "\"\"\""
   ]
  },
  {
   "cell_type": "code",
   "execution_count": 7,
   "id": "429b5a3b-846b-4974-9814-cc2f12b39db4",
   "metadata": {},
   "outputs": [
    {
     "data": {
      "text/plain": [
       "response:\n",
       "GenerateContentResponse(\n",
       "    done=True,\n",
       "    iterator=None,\n",
       "    result=protos.GenerateContentResponse({\n",
       "      \"candidates\": [\n",
       "        {\n",
       "          \"content\": {\n",
       "            \"parts\": [\n",
       "              {\n",
       "                \"text\": \"{\\n  \\\"city\\\": {\\n    \\\"name\\\": \\\"Steelhaven\\\",\\n    \\\"description\\\": \\\"Steelhaven, a city choked by its own ambition, where skyscrapers clawed at the sky, casting long, ominous shadows over the grimy streets below. The air hung thick with the smell of coal smoke and desperation, a testament to the city's industrial heart. But beneath the veneer of progress, a rot had taken hold. The city's government, a greasy machine of graft and backroom deals, operated with impunity, leaving the honest folk to fend for themselves. Every cop on the force seemed to have a price, and justice was a commodity sold to the highest bidder. The South Side, a labyrinth of dimly lit alleys and speakeasies, was where the real power resided. Gangsters, flush with cash from the illegal liquor trade, ruled the roost with an iron fist, their influence reaching every corner of Steelhaven.\\\",\\n    \\\"atmosphere\\\": \\\"A palpable tension hung in the air, a feeling that at any moment, the city might explode. The constant hum of the elevated train, the wail of distant sirens, and the hushed conversations in darkened doorways created an unsettling symphony of urban decay. Rain slicked the cobblestones, reflecting the neon glow of forbidden establishments, casting an eerie shimmer on the faces of the city's inhabitants. It was a place where secrets festered and hope withered, where the line between right and wrong had blurred into nothingness.\\\",\\n    \\\"mood\\\": \\\"Harston Cooper, a man hardened by the city's relentless grind, felt the weight of Steelhaven's corruption on his shoulders. He knew that finding Lucille Robinson's missing husband, Roland, was like trying to find a single raindrop in a hurricane. But Mrs. Robinson's desperate pleas, the tremor in her voice, and the fear in her eyes had touched a chord in the detective's weary soul. He had sworn to uphold the law, but in Steelhaven, the law was just another tool in the hands of the corrupt. Cooper was now walking a tightrope between doing what was right and falling into the city's abyss of vice and treachery.\\\"\\n  }\\n}\"\n",
       "              }\n",
       "            ],\n",
       "            \"role\": \"model\"\n",
       "          },\n",
       "          \"finish_reason\": \"STOP\",\n",
       "          \"safety_ratings\": [\n",
       "            {\n",
       "              \"category\": \"HARM_CATEGORY_HATE_SPEECH\",\n",
       "              \"probability\": \"NEGLIGIBLE\"\n",
       "            },\n",
       "            {\n",
       "              \"category\": \"HARM_CATEGORY_DANGEROUS_CONTENT\",\n",
       "              \"probability\": \"NEGLIGIBLE\"\n",
       "            },\n",
       "            {\n",
       "              \"category\": \"HARM_CATEGORY_HARASSMENT\",\n",
       "              \"probability\": \"NEGLIGIBLE\"\n",
       "            },\n",
       "            {\n",
       "              \"category\": \"HARM_CATEGORY_SEXUALLY_EXPLICIT\",\n",
       "              \"probability\": \"NEGLIGIBLE\"\n",
       "            }\n",
       "          ],\n",
       "          \"avg_logprobs\": -0.5413296989221001\n",
       "        }\n",
       "      ],\n",
       "      \"usage_metadata\": {\n",
       "        \"prompt_token_count\": 138,\n",
       "        \"candidates_token_count\": 451,\n",
       "        \"total_token_count\": 589\n",
       "      }\n",
       "    }),\n",
       ")"
      ]
     },
     "execution_count": 7,
     "metadata": {},
     "output_type": "execute_result"
    }
   ],
   "source": [
    "raw_response = model.generate_content(prompt)\n",
    "raw_response"
   ]
  },
  {
   "cell_type": "code",
   "execution_count": 8,
   "id": "9011a19a-53d8-4c05-ab9e-424b7379dc03",
   "metadata": {},
   "outputs": [
    {
     "data": {
      "text/plain": [
       "{'city': {'name': 'Steelhaven',\n",
       "  'description': \"Steelhaven, a city choked by its own ambition, where skyscrapers clawed at the sky, casting long, ominous shadows over the grimy streets below. The air hung thick with the smell of coal smoke and desperation, a testament to the city's industrial heart. But beneath the veneer of progress, a rot had taken hold. The city's government, a greasy machine of graft and backroom deals, operated with impunity, leaving the honest folk to fend for themselves. Every cop on the force seemed to have a price, and justice was a commodity sold to the highest bidder. The South Side, a labyrinth of dimly lit alleys and speakeasies, was where the real power resided. Gangsters, flush with cash from the illegal liquor trade, ruled the roost with an iron fist, their influence reaching every corner of Steelhaven.\",\n",
       "  'atmosphere': \"A palpable tension hung in the air, a feeling that at any moment, the city might explode. The constant hum of the elevated train, the wail of distant sirens, and the hushed conversations in darkened doorways created an unsettling symphony of urban decay. Rain slicked the cobblestones, reflecting the neon glow of forbidden establishments, casting an eerie shimmer on the faces of the city's inhabitants. It was a place where secrets festered and hope withered, where the line between right and wrong had blurred into nothingness.\",\n",
       "  'mood': \"Harston Cooper, a man hardened by the city's relentless grind, felt the weight of Steelhaven's corruption on his shoulders. He knew that finding Lucille Robinson's missing husband, Roland, was like trying to find a single raindrop in a hurricane. But Mrs. Robinson's desperate pleas, the tremor in her voice, and the fear in her eyes had touched a chord in the detective's weary soul. He had sworn to uphold the law, but in Steelhaven, the law was just another tool in the hands of the corrupt. Cooper was now walking a tightrope between doing what was right and falling into the city's abyss of vice and treachery.\"}}"
      ]
     },
     "execution_count": 8,
     "metadata": {},
     "output_type": "execute_result"
    }
   ],
   "source": [
    "response = json.loads(raw_response.text)\n",
    "response"
   ]
  },
  {
   "cell_type": "code",
   "execution_count": 9,
   "id": "38e2bc9b-9dad-4da8-9be6-8750c653e55d",
   "metadata": {},
   "outputs": [
    {
     "data": {
      "text/plain": [
       "'Steelhaven'"
      ]
     },
     "execution_count": 9,
     "metadata": {},
     "output_type": "execute_result"
    }
   ],
   "source": [
    "response[\"city\"][\"name\"]"
   ]
  },
  {
   "cell_type": "code",
   "execution_count": 10,
   "id": "d0ad4d26-8e03-407b-ab43-edffa18eab10",
   "metadata": {},
   "outputs": [
    {
     "data": {
      "text/plain": [
       "\"Steelhaven, a city choked by its own ambition, where skyscrapers clawed at the sky, casting long, ominous shadows over the grimy streets below. The air hung thick with the smell of coal smoke and desperation, a testament to the city's industrial heart. But beneath the veneer of progress, a rot had taken hold. The city's government, a greasy machine of graft and backroom deals, operated with impunity, leaving the honest folk to fend for themselves. Every cop on the force seemed to have a price, and justice was a commodity sold to the highest bidder. The South Side, a labyrinth of dimly lit alleys and speakeasies, was where the real power resided. Gangsters, flush with cash from the illegal liquor trade, ruled the roost with an iron fist, their influence reaching every corner of Steelhaven.\""
      ]
     },
     "execution_count": 10,
     "metadata": {},
     "output_type": "execute_result"
    }
   ],
   "source": [
    "response[\"city\"][\"description\"]"
   ]
  },
  {
   "cell_type": "code",
   "execution_count": null,
   "id": "ae76a202-1e96-4aaa-a4a3-aab78c63230a",
   "metadata": {},
   "outputs": [],
   "source": []
  }
 ],
 "metadata": {
  "kernelspec": {
   "display_name": "rpg-world-engine",
   "language": "python",
   "name": "rpg-world-engine"
  },
  "language_info": {
   "codemirror_mode": {
    "name": "ipython",
    "version": 3
   },
   "file_extension": ".py",
   "mimetype": "text/x-python",
   "name": "python",
   "nbconvert_exporter": "python",
   "pygments_lexer": "ipython3",
   "version": "3.13.1"
  }
 },
 "nbformat": 4,
 "nbformat_minor": 5
}
