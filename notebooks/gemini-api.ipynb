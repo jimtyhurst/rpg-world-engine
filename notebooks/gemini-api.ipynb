{
 "cells": [
  {
   "cell_type": "markdown",
   "id": "1a3b05f4-5102-4755-a722-c07fbd9dfe3a",
   "metadata": {},
   "source": [
    "# Shows how to access Google's Gemini LLM"
   ]
  },
  {
   "cell_type": "markdown",
   "id": "60c44de5-be7f-4453-a7c0-c8361ccb099b",
   "metadata": {},
   "source": [
    "## Prerequisites\n",
    "\n",
    "1. You need an API key to access the Gemini API.\n",
    "    - See the documentation, \"Get a Gemini API key\", at: https://ai.google.dev/gemini-api/docs/api-key\n",
    "2. Choose a Gemini model to use.\n",
    "    - See the documentation, \"Gemini models\", at: https://ai.google.dev/gemini-api/docs/models/gemini\n",
    "    - They are free (as of 2024-12-29), but they have different rate limits,\n",
    "        token limits, and supported data types.\n",
    "3. Choose an API.\n",
    "    - `google-generativeai`\n",
    "        - We use this API in this notebook.\n",
    "        - https://pypi.org/project/google-generativeai/\n",
    "        - https://ai.google.dev/gemini-api/docs/quickstart?lang=python\n",
    "    - `google-genai`\n",
    "        - https://pypi.org/project/google-genai/\n",
    "        - https://googleapis.github.io/python-genai/\n",
    "        - The documentation says, \"Please do not use this SDK in production.\""
   ]
  },
  {
   "cell_type": "code",
   "execution_count": 1,
   "id": "26f59ef6-a4b5-4c27-9532-04729a6985c5",
   "metadata": {},
   "outputs": [],
   "source": [
    "# List of possible models: https://ai.google.dev/gemini-api/docs/models/gemini\n",
    "GEMINI_MODEL_NAME = \"gemini-2.0-flash-exp\"\n",
    "\n",
    "# The name of the key that you have defined as one of:\n",
    "#   - an environment variable;\n",
    "#   - in a .env file; or\n",
    "#   - as a Secret in Google Colab.\n",
    "GEMINI_API_KEY_NAME = \"GEMINI_API_KEY\""
   ]
  },
  {
   "cell_type": "code",
   "execution_count": 2,
   "id": "6d00a462-185a-47f5-84c9-08168dfc01f4",
   "metadata": {},
   "outputs": [],
   "source": [
    "import dotenv\n",
    "import os\n",
    "import google.generativeai as genai\n",
    "import json"
   ]
  },
  {
   "cell_type": "markdown",
   "id": "d43823d5-9acb-408f-a796-b5f6025eb865",
   "metadata": {},
   "source": [
    "## Load API Key"
   ]
  },
  {
   "cell_type": "code",
   "execution_count": 3,
   "id": "d0a3ed4e-77cf-48d2-9b76-3dfe2891d185",
   "metadata": {},
   "outputs": [],
   "source": [
    "# Loads variables defined in '.env' file as environment variables.\n",
    "#   override=False means that the value of the variable in the environment\n",
    "#     takes precedence over the value of the variable in the '.env' file.\n",
    "_ = dotenv.load_dotenv(override=False)\n",
    "GEMINI_API_KEY_VALUE = os.environ.get(GEMINI_API_KEY_NAME)"
   ]
  },
  {
   "cell_type": "code",
   "execution_count": 4,
   "id": "eb626e34-8cd2-4081-93af-84290f41cf09",
   "metadata": {},
   "outputs": [],
   "source": [
    "# In Google Colab, you have two options:\n",
    "# (1) Prompt the user for the key value:\n",
    "# import getpass\n",
    "# GEMINI_API_KEY_VALUE = getpass.getpass()\n",
    "# -or-\n",
    "# (2) Save your API Key in the Secrets, then read that value:\n",
    "# from google.colab import userdata\n",
    "# GEMINI_API_KEY_VALUE = userdata.get('GEMINI_API_KEY_NAME')"
   ]
  },
  {
   "cell_type": "markdown",
   "id": "fb66f700-bedb-4b58-a05b-a19050bef7d8",
   "metadata": {},
   "source": [
    "## Get a model that returns JSON\n",
    "\n",
    "See:\n",
    "\n",
    "- https://ai.google.dev/gemini-api/docs/quickstart?lang=python#make-first-request\n",
    "- https://github.com/google-gemini/cookbook/blob/main/quickstarts/JSON_mode.ipynb\n",
    "- https://cloud.google.com/vertex-ai/generative-ai/docs/model-reference/inference#python\n",
    "- https://cloud.google.com/vertex-ai/generative-ai/docs/reference/python/latest/vertexai.generative_models.GenerationConfig"
   ]
  },
  {
   "cell_type": "code",
   "execution_count": 5,
   "id": "f0f8ccab-60c7-4135-8e1c-0582980cca0b",
   "metadata": {},
   "outputs": [],
   "source": [
    "genai.configure(api_key=GEMINI_API_KEY_VALUE)\n",
    "generation_configuration = genai.GenerationConfig(\n",
    "    temperature=1.0,\n",
    "    candidate_count=1,\n",
    "    max_output_tokens=1024,\n",
    "    response_mime_type=\"application/json\",\n",
    ")\n",
    "model = genai.GenerativeModel(\n",
    "    GEMINI_MODEL_NAME, generation_config=generation_configuration\n",
    ")"
   ]
  },
  {
   "cell_type": "markdown",
   "id": "4aab990d-4aec-4fd3-9659-68326d63988e",
   "metadata": {},
   "source": [
    "## Submit a prompt"
   ]
  },
  {
   "cell_type": "code",
   "execution_count": 6,
   "id": "7b07ce12-b24c-4e84-be21-5bdaa7976a0d",
   "metadata": {},
   "outputs": [],
   "source": [
    "prompt = \"\"\"\n",
    "You are a creative writer.\n",
    "I want you to provide a few paragraphs describing a city from the United States in the 1920s,\n",
    "using a detective noir style.\n",
    "The city has a corrupt government.\n",
    "Gangsters on the South Side are making a lot of money\n",
    "from bootleg liquor during Prohibition.\n",
    "Detective Harston Cooper is trying to help Mrs. Lucille Robinson\n",
    "to find her missing husband, Roland Robinson.\n",
    "Provide the response as JSON in this format:\n",
    "{\n",
    "  \"city\": {\n",
    "    \"name\": ,\n",
    "    \"description\": ,\n",
    "    \"atmosphere\": ,\n",
    "    \"mood\":\n",
    "  }\n",
    "}\n",
    "\"\"\""
   ]
  },
  {
   "cell_type": "code",
   "execution_count": 7,
   "id": "429b5a3b-846b-4974-9814-cc2f12b39db4",
   "metadata": {},
   "outputs": [
    {
     "data": {
      "text/plain": [
       "response:\n",
       "GenerateContentResponse(\n",
       "    done=True,\n",
       "    iterator=None,\n",
       "    result=protos.GenerateContentResponse({\n",
       "      \"candidates\": [\n",
       "        {\n",
       "          \"content\": {\n",
       "            \"parts\": [\n",
       "              {\n",
       "                \"text\": \"{\\n  \\\"city\\\": {\\n    \\\"name\\\": \\\"New Chicago\\\",\\n    \\\"description\\\": \\\"The city was a symphony of shadows and secrets, a concrete jungle where the glint of chrome on a speeding car could just as easily be a reflection of a gangster's pistol. The towering skyscrapers, symbols of ambition and progress, cast long, dark fingers over the streets, hiding the rot that festered beneath the surface. The air was thick with the smell of coal smoke and desperation, a constant reminder of the city's gritty underbelly.\\\",\\n    \\\"atmosphere\\\": \\\"A perpetual twilight seemed to cling to the city, even in the midday sun. The sounds of jazz music spilled from the speakeasies, mingling with the rumble of the elevated train and the hushed conversations in dimly lit alleyways. The South Side pulsed with a dangerous energy, where the sweet smell of illicit liquor masked the bitter taste of corruption.\\\",\\n    \\\"mood\\\": \\\"The mood was a cocktail of unease and anticipation, a feeling that anything could happen at any moment. Every corner held a potential threat, every smile a possible deception. It was a city where trust was a luxury few could afford, and the line between right and wrong blurred with every passing day. Detective Harston Cooper knew the city well, its secrets and its lies, but the case of the missing Roland Robinson was starting to smell like more than just another disappearing act.\\\"\\n  }\\n}\"\n",
       "              }\n",
       "            ],\n",
       "            \"role\": \"model\"\n",
       "          },\n",
       "          \"finish_reason\": \"STOP\",\n",
       "          \"safety_ratings\": [\n",
       "            {\n",
       "              \"category\": \"HARM_CATEGORY_HATE_SPEECH\",\n",
       "              \"probability\": \"NEGLIGIBLE\"\n",
       "            },\n",
       "            {\n",
       "              \"category\": \"HARM_CATEGORY_DANGEROUS_CONTENT\",\n",
       "              \"probability\": \"NEGLIGIBLE\"\n",
       "            },\n",
       "            {\n",
       "              \"category\": \"HARM_CATEGORY_HARASSMENT\",\n",
       "              \"probability\": \"NEGLIGIBLE\"\n",
       "            },\n",
       "            {\n",
       "              \"category\": \"HARM_CATEGORY_SEXUALLY_EXPLICIT\",\n",
       "              \"probability\": \"NEGLIGIBLE\"\n",
       "            }\n",
       "          ],\n",
       "          \"avg_logprobs\": -0.49343085854740465\n",
       "        }\n",
       "      ],\n",
       "      \"usage_metadata\": {\n",
       "        \"prompt_token_count\": 138,\n",
       "        \"candidates_token_count\": 295,\n",
       "        \"total_token_count\": 433\n",
       "      }\n",
       "    }),\n",
       ")"
      ]
     },
     "execution_count": 7,
     "metadata": {},
     "output_type": "execute_result"
    }
   ],
   "source": [
    "raw_response = model.generate_content(prompt)\n",
    "raw_response"
   ]
  },
  {
   "cell_type": "code",
   "execution_count": 8,
   "id": "9011a19a-53d8-4c05-ab9e-424b7379dc03",
   "metadata": {},
   "outputs": [
    {
     "data": {
      "text/plain": [
       "{'city': {'name': 'New Chicago',\n",
       "  'description': \"The city was a symphony of shadows and secrets, a concrete jungle where the glint of chrome on a speeding car could just as easily be a reflection of a gangster's pistol. The towering skyscrapers, symbols of ambition and progress, cast long, dark fingers over the streets, hiding the rot that festered beneath the surface. The air was thick with the smell of coal smoke and desperation, a constant reminder of the city's gritty underbelly.\",\n",
       "  'atmosphere': 'A perpetual twilight seemed to cling to the city, even in the midday sun. The sounds of jazz music spilled from the speakeasies, mingling with the rumble of the elevated train and the hushed conversations in dimly lit alleyways. The South Side pulsed with a dangerous energy, where the sweet smell of illicit liquor masked the bitter taste of corruption.',\n",
       "  'mood': 'The mood was a cocktail of unease and anticipation, a feeling that anything could happen at any moment. Every corner held a potential threat, every smile a possible deception. It was a city where trust was a luxury few could afford, and the line between right and wrong blurred with every passing day. Detective Harston Cooper knew the city well, its secrets and its lies, but the case of the missing Roland Robinson was starting to smell like more than just another disappearing act.'}}"
      ]
     },
     "execution_count": 8,
     "metadata": {},
     "output_type": "execute_result"
    }
   ],
   "source": [
    "response = json.loads(raw_response.text)\n",
    "response"
   ]
  },
  {
   "cell_type": "code",
   "execution_count": 9,
   "id": "38e2bc9b-9dad-4da8-9be6-8750c653e55d",
   "metadata": {},
   "outputs": [
    {
     "data": {
      "text/plain": [
       "'New Chicago'"
      ]
     },
     "execution_count": 9,
     "metadata": {},
     "output_type": "execute_result"
    }
   ],
   "source": [
    "response[\"city\"][\"name\"]"
   ]
  },
  {
   "cell_type": "code",
   "execution_count": 10,
   "id": "d0ad4d26-8e03-407b-ab43-edffa18eab10",
   "metadata": {},
   "outputs": [
    {
     "data": {
      "text/plain": [
       "\"The city was a symphony of shadows and secrets, a concrete jungle where the glint of chrome on a speeding car could just as easily be a reflection of a gangster's pistol. The towering skyscrapers, symbols of ambition and progress, cast long, dark fingers over the streets, hiding the rot that festered beneath the surface. The air was thick with the smell of coal smoke and desperation, a constant reminder of the city's gritty underbelly.\""
      ]
     },
     "execution_count": 10,
     "metadata": {},
     "output_type": "execute_result"
    }
   ],
   "source": [
    "response[\"city\"][\"description\"]"
   ]
  },
  {
   "cell_type": "code",
   "execution_count": null,
   "id": "ae76a202-1e96-4aaa-a4a3-aab78c63230a",
   "metadata": {},
   "outputs": [],
   "source": []
  }
 ],
 "metadata": {
  "kernelspec": {
   "display_name": "rpg-world-engine",
   "language": "python",
   "name": "rpg-world-engine"
  },
  "language_info": {
   "codemirror_mode": {
    "name": "ipython",
    "version": 3
   },
   "file_extension": ".py",
   "mimetype": "text/x-python",
   "name": "python",
   "nbconvert_exporter": "python",
   "pygments_lexer": "ipython3",
   "version": "3.13.1"
  }
 },
 "nbformat": 4,
 "nbformat_minor": 5
}
